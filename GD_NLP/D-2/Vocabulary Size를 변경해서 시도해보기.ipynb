{
 "cells": [
  {
   "cell_type": "markdown",
   "id": "7802d6d4",
   "metadata": {},
   "source": [
    "# 6-1. 프로젝트: Vocabulary Size를 변경해서 시도해보기"
   ]
  },
  {
   "cell_type": "markdown",
   "id": "4b7fe6fe",
   "metadata": {},
   "source": [
    "지금까지는 모델을 변경하고, 모델을 조합해서 성능을 올리는 일에 힘썼습니다. 그런데 어쩌면 성능을 높이는 방법은 단순히 모델을 조정하는 일에 한정되지 않을 수 있습니다. 데이터의 전처리는 모델의 성능에 영향을 직접적으로 줍니다. 특히나 Bag of Words를 기반으로 하는 DTM이나 TF-IDF의 경우, 사용하는 단어의 수를 어떻게 결정하느냐에 따라서 성능에 영향을 줄 수 있겠죠.\n",
    "\n",
    "중요도가 낮은 단어들까지 포함해 너무 많은 단어를 사용하는 경우에도 성능이 저하될 수 있고, 반대로 너무 적은 단어들을 사용해도 성능이 저하될 수 있습니다. 이렇게 변화된 단어의 수는 또 어떤 모델을 사용하느냐에 따라 유리할 수도, 불리할 수도 있습니다.\n",
    "\n",
    "단어의 수에 따라서 모델의 성능이 어떻게 변하는지 테스트해 봅시다.\n",
    "```python\n",
    "(x_train, y_train), (x_test, y_test) = reuters.load_data(num_words=10000, test_split=0.2)\n",
    "```\n",
    "앞서 num_words로 사용할 단어의 수를 조정할 수 있다는 것을 배웠습니다. 빈도수가 많은 순서대로 나열했을 때, num_words의 인자로 준 정숫값만큼의 단어를 사용하고 나머지 단어는 전부 <unk>로 처리하는 원리였었죠.\n",
    "\n",
    "아래의 두 가지 경우에 대해서 지금까지 사용했던 모델들의 정확도를 직접 확인해 보세요."
   ]
  },
  {
   "cell_type": "markdown",
   "id": "d88eab66",
   "metadata": {},
   "source": [
    "## 라이브러리 버전을 확인해 봅니다\n",
    "사용할 라이브러리 버전을 둘러봅시다."
   ]
  },
  {
   "cell_type": "code",
   "execution_count": 2,
   "id": "d9c00750",
   "metadata": {},
   "outputs": [
    {
     "name": "stdout",
     "output_type": "stream",
     "text": [
      "2.6.0\n",
      "3.4.3\n",
      "0.11.2\n",
      "1.21.4\n",
      "1.3.3\n",
      "1.0\n"
     ]
    }
   ],
   "source": [
    "import tensorflow\n",
    "import matplotlib\n",
    "import seaborn \n",
    "import numpy \n",
    "import pandas\n",
    "import sklearn\n",
    "\n",
    "print(tensorflow.__version__)\n",
    "print(matplotlib.__version__)\n",
    "print(seaborn.__version__)\n",
    "print(numpy.__version__)\n",
    "print(pandas.__version__)\n",
    "print(sklearn.__version__)"
   ]
  },
  {
   "cell_type": "code",
   "execution_count": 3,
   "id": "2c8a857c",
   "metadata": {},
   "outputs": [],
   "source": [
    "from tensorflow.keras.datasets import reuters\n",
    "import matplotlib.pyplot as plt\n",
    "import seaborn as sns\n",
    "import numpy as np\n",
    "import pandas as pd\n",
    "from scipy import sparse "
   ]
  },
  {
   "cell_type": "markdown",
   "id": "8373f812",
   "metadata": {},
   "source": [
    "## 1. 모든 단어 사용. "
   ]
  },
  {
   "cell_type": "markdown",
   "id": "f541a314",
   "metadata": {},
   "source": [
    "### 데이터 불러오기 및 분석, 전처리 "
   ]
  },
  {
   "cell_type": "code",
   "execution_count": 5,
   "id": "c0dabfd6",
   "metadata": {},
   "outputs": [],
   "source": [
    "(x_train, y_train), (x_test, y_test) = reuters.load_data(num_words=None, test_split=0.2)"
   ]
  },
  {
   "cell_type": "code",
   "execution_count": 6,
   "id": "20e4f92c",
   "metadata": {
    "scrolled": true
   },
   "outputs": [
    {
     "name": "stdout",
     "output_type": "stream",
     "text": [
      "훈련 샘플의 수: 8982\n",
      "테스트 샘플의 수: 2246\n"
     ]
    }
   ],
   "source": [
    "print('훈련 샘플의 수: {}'.format(len(x_train)))\n",
    "print('테스트 샘플의 수: {}'.format(len(x_test)))"
   ]
  },
  {
   "cell_type": "code",
   "execution_count": 7,
   "id": "12f99b30",
   "metadata": {
    "scrolled": true
   },
   "outputs": [
    {
     "name": "stdout",
     "output_type": "stream",
     "text": [
      "클래스의 수 : 46\n"
     ]
    }
   ],
   "source": [
    "num_classes = max(y_train) + 1\n",
    "print('클래스의 수 : {}'.format(num_classes))"
   ]
  },
  {
   "cell_type": "code",
   "execution_count": 8,
   "id": "cbc7606a",
   "metadata": {
    "scrolled": true
   },
   "outputs": [
    {
     "name": "stdout",
     "output_type": "stream",
     "text": [
      "훈련용 뉴스의 최대 길이 :2376\n",
      "훈련용 뉴스의 평균 길이 :145.5398574927633\n"
     ]
    },
    {
     "data": {
      "image/png": "[encoded data removed]",
      "text/plain": [
       "<Figure size 432x288 with 1 Axes>"
      ]
     },
     "metadata": {
      "needs_background": "light"
     },
     "output_type": "display_data"
    }
   ],
   "source": [
    "print('훈련용 뉴스의 최대 길이 :{}'.format(max(len(l) for l in x_train)))\n",
    "print('훈련용 뉴스의 평균 길이 :{}'.format(sum(map(len, x_train))/len(x_train)))\n",
    "\n",
    "plt.hist([len(s) for s in x_train], bins=50)\n",
    "plt.xlabel('length of samples')\n",
    "plt.ylabel('number of samples')\n",
    "plt.show()"
   ]
  },
  {
   "cell_type": "code",
   "execution_count": 9,
   "id": "ed6765ed",
   "metadata": {},
   "outputs": [],
   "source": [
    "word_index = reuters.get_word_index(path=\"reuters_word_index.json\")"
   ]
  },
  {
   "cell_type": "markdown",
   "id": "7ec49722",
   "metadata": {},
   "source": [
    "- 0, 1, 2번에 \\<pad>, \\<sos>, \\<unk> 토큰이 매핑되어있다.    \n",
    "- 이를 위해 index에 3을 더해주는 추가 작업이 필요함"
   ]
  },
  {
   "cell_type": "code",
   "execution_count": 10,
   "id": "ab6aca7f",
   "metadata": {},
   "outputs": [],
   "source": [
    "index_to_word = {index + 3 : word for word, index in word_index.items()}"
   ]
  },
  {
   "cell_type": "code",
   "execution_count": 11,
   "id": "f2b48b40",
   "metadata": {},
   "outputs": [],
   "source": [
    "# index_to_word에 숫자 0은 <pad>, 숫자 1은 <sos>, 숫자 2는 <unk>를 넣어줍니다.\n",
    "for index, token in enumerate((\"<pad>\", \"<sos>\", \"<unk>\")):\n",
    "  index_to_word[index]=token"
   ]
  },
  {
   "cell_type": "markdown",
   "id": "0c5ff288",
   "metadata": {},
   "source": [
    "- 0번째 샘플로 확인"
   ]
  },
  {
   "cell_type": "code",
   "execution_count": 12,
   "id": "ccdcbaa4",
   "metadata": {
    "scrolled": true
   },
   "outputs": [
    {
     "data": {
      "text/plain": [
       "[1,\n",
       " 27595,\n",
       " 28842,\n",
       " 8,\n",
       " 43,\n",
       " 10,\n",
       " 447,\n",
       " 5,\n",
       " 25,\n",
       " 207,\n",
       " 270,\n",
       " 5,\n",
       " 3095,\n",
       " 111,\n",
       " 16,\n",
       " 369,\n",
       " 186,\n",
       " 90,\n",
       " 67,\n",
       " 7,\n",
       " 89,\n",
       " 5,\n",
       " 19,\n",
       " 102,\n",
       " 6,\n",
       " 19,\n",
       " 124,\n",
       " 15,\n",
       " 90,\n",
       " 67,\n",
       " 84,\n",
       " 22,\n",
       " 482,\n",
       " 26,\n",
       " 7,\n",
       " 48,\n",
       " 4,\n",
       " 49,\n",
       " 8,\n",
       " 864,\n",
       " 39,\n",
       " 209,\n",
       " 154,\n",
       " 6,\n",
       " 151,\n",
       " 6,\n",
       " 83,\n",
       " 11,\n",
       " 15,\n",
       " 22,\n",
       " 155,\n",
       " 11,\n",
       " 15,\n",
       " 7,\n",
       " 48,\n",
       " 9,\n",
       " 4579,\n",
       " 1005,\n",
       " 504,\n",
       " 6,\n",
       " 258,\n",
       " 6,\n",
       " 272,\n",
       " 11,\n",
       " 15,\n",
       " 22,\n",
       " 134,\n",
       " 44,\n",
       " 11,\n",
       " 15,\n",
       " 16,\n",
       " 8,\n",
       " 197,\n",
       " 1245,\n",
       " 90,\n",
       " 67,\n",
       " 52,\n",
       " 29,\n",
       " 209,\n",
       " 30,\n",
       " 32,\n",
       " 132,\n",
       " 6,\n",
       " 109,\n",
       " 15,\n",
       " 17,\n",
       " 12]"
      ]
     },
     "execution_count": 12,
     "metadata": {},
     "output_type": "execute_result"
    }
   ],
   "source": [
    "x_train[0]"
   ]
  },
  {
   "cell_type": "code",
   "execution_count": 13,
   "id": "334210d7",
   "metadata": {
    "scrolled": true
   },
   "outputs": [
    {
     "name": "stdout",
     "output_type": "stream",
     "text": [
      "<sos> mcgrath rentcorp said as a result of its december acquisition of space co it expects earnings per share in 1987 of 1 15 to 1 30 dlrs per share up from 70 cts in 1986 the company said pretax net should rise to nine to 10 mln dlrs from six mln dlrs in 1986 and rental operation revenues to 19 to 22 mln dlrs from 12 5 mln dlrs it said cash flow per share this year should be 2 50 to three dlrs reuter 3\n"
     ]
    }
   ],
   "source": [
    "print(' '.join([index_to_word[index] for index in x_train[0]]))"
   ]
  },
  {
   "cell_type": "code",
   "execution_count": 14,
   "id": "e92f99f5",
   "metadata": {},
   "outputs": [],
   "source": [
    "# 전체 데이터 변환(train, test)\n",
    "decoded = []\n",
    "for i in range(len(x_train)):\n",
    "    t = ' '.join([index_to_word[index] for index in x_train[i]])\n",
    "    decoded.append(t)\n",
    "\n",
    "x_train = decoded"
   ]
  },
  {
   "cell_type": "code",
   "execution_count": 15,
   "id": "aafddc8d",
   "metadata": {},
   "outputs": [],
   "source": [
    "decoded = []\n",
    "for i in range(len(x_test)):\n",
    "    t = ' '.join([index_to_word[index] for index in x_test[i]])\n",
    "    decoded.append(t)\n",
    "\n",
    "x_test = decoded"
   ]
  },
  {
   "cell_type": "markdown",
   "id": "78c0c31c",
   "metadata": {},
   "source": [
    "### 벡터화 하기"
   ]
  },
  {
   "cell_type": "code",
   "execution_count": 16,
   "id": "47d3f70d",
   "metadata": {},
   "outputs": [],
   "source": [
    "#Document Term Matrix, DTM을 활용한 TF-IDF행렬로 벡터화한다.\n",
    "from sklearn.feature_extraction.text import CountVectorizer\n",
    "from sklearn.feature_extraction.text import TfidfTransformer"
   ]
  },
  {
   "cell_type": "code",
   "execution_count": 17,
   "id": "a9eec92a",
   "metadata": {},
   "outputs": [
    {
     "name": "stdout",
     "output_type": "stream",
     "text": [
      "(8982, 26506)\n"
     ]
    }
   ],
   "source": [
    "# DTM 생성\n",
    "dtmvector = CountVectorizer()\n",
    "x_train_dtm = dtmvector.fit_transform(x_train)\n",
    "print(x_train_dtm.shape)"
   ]
  },
  {
   "cell_type": "code",
   "execution_count": 18,
   "id": "a0489bbf",
   "metadata": {},
   "outputs": [
    {
     "name": "stdout",
     "output_type": "stream",
     "text": [
      "(8982, 26506)\n"
     ]
    }
   ],
   "source": [
    "#TF-IDF 생성\n",
    "tfidf_transformer = TfidfTransformer()\n",
    "tfidfv = tfidf_transformer.fit_transform(x_train_dtm)\n",
    "print(tfidfv.shape)"
   ]
  },
  {
   "cell_type": "markdown",
   "id": "989e3c0e",
   "metadata": {},
   "source": [
    "### 머신러닝 모델 학습\n",
    "- 나이브 베이즈 분류기\n",
    "- Complement Naive Bayes Classifier, CNB\n",
    "- 로지스틱 회귀\n",
    "- 서포트 벡터 머신(SVM)\n",
    "- 결정 트리\n",
    "- 랜덤 포레스트\n",
    "- 그래디언트 부스팅 트리\n",
    "- 보팅 "
   ]
  },
  {
   "cell_type": "code",
   "execution_count": 19,
   "id": "4c9fce56",
   "metadata": {},
   "outputs": [],
   "source": [
    "from sklearn.naive_bayes import MultinomialNB #다항분포 나이브 베이즈 모델\n",
    "from sklearn.linear_model import LogisticRegression, SGDClassifier\n",
    "from sklearn.naive_bayes import ComplementNB\n",
    "from sklearn.tree import DecisionTreeClassifier\n",
    "from sklearn.ensemble import RandomForestClassifier\n",
    "from sklearn.ensemble import GradientBoostingClassifier\n",
    "from sklearn.ensemble import VotingClassifier\n",
    "from sklearn.svm import LinearSVC\n",
    "from sklearn.metrics import accuracy_score #정확도 계산\n",
    "from sklearn.metrics import classification_report\n",
    "from sklearn.metrics import confusion_matrix\n",
    "import time\n",
    "import datetime"
   ]
  },
  {
   "cell_type": "code",
   "execution_count": 20,
   "id": "c10efb05",
   "metadata": {},
   "outputs": [],
   "source": [
    "x_test_dtm = dtmvector.transform(x_test) #테스트 데이터를 DTM으로 변환\n",
    "tfidfv_test = tfidf_transformer.transform(x_test_dtm) #DTM을 TF-IDF 행렬로 변환"
   ]
  },
  {
   "cell_type": "code",
   "execution_count": 21,
   "id": "6a1a539f",
   "metadata": {},
   "outputs": [],
   "source": [
    "def train_ml(tfidfv, y_train, tfidfv_test, y_test):\n",
    "    # 나이브 베이즈 분류기 \n",
    "    mod = MultinomialNB()\n",
    "    mod.fit(tfidfv, y_train)\n",
    "    \n",
    "    mod_predicted = mod.predict(tfidfv_test) #테스트 데이터에 대한 예측\n",
    "    print(\"나이브 베이즈 정확도:\", accuracy_score(y_test, mod_predicted)) #예측값과 실제값 비교\n",
    "    \n",
    "    # CNB\n",
    "    cb = ComplementNB()\n",
    "    cb.fit(tfidfv, y_train)\n",
    "    \n",
    "    cb_predicted = cb.predict(tfidfv_test) #테스트 데이터에 대한 예측\n",
    "    print(\"CNB 정확도:\", accuracy_score(y_test, cb_predicted)) #예측값과 실제값 비교\n",
    "    \n",
    "    # 로지스틱 회귀 \n",
    "    lr = LogisticRegression(C=10000, penalty='l2')\n",
    "    lr.fit(tfidfv, y_train)\n",
    "\n",
    "    lr_predicted = lr.predict(tfidfv_test) #테스트 데이터에 대한 예측\n",
    "    print(\"로지스틱 회귀 정확도:\", accuracy_score(y_test, lr_predicted)) #예측값과 실제값 비교\n",
    "    \n",
    "    # 선형 서포트 벡터 머신 \n",
    "    lsvc = LinearSVC(C=1000, penalty='l1', max_iter=500, dual=False)\n",
    "    lsvc.fit(tfidfv, y_train)\n",
    "    \n",
    "    lsvc_predicted = lsvc.predict(tfidfv_test) #테스트 데이터에 대한 예측\n",
    "    print(\"SVM 정확도:\", accuracy_score(y_test, lsvc_predicted)) #예측값과 실제값 비교\n",
    "    \n",
    "    # 결정 트리(Decision Tree) \n",
    "    tree = DecisionTreeClassifier(max_depth=10, random_state=0)\n",
    "    tree.fit(tfidfv, y_train)\n",
    "    \n",
    "    tree_predicted = tree.predict(tfidfv_test) #테스트 데이터에 대한 예측\n",
    "    print(\"결정 트리 정확도:\", accuracy_score(y_test, tree_predicted)) #예측값과 실제값 비교\n",
    "    \n",
    "    # 랜덤 포레스트(Random Forest)\n",
    "    forest = RandomForestClassifier(n_estimators=5, random_state=0)\n",
    "    forest.fit(tfidfv, y_train)\n",
    "    \n",
    "    forest_predicted = forest.predict(tfidfv_test) #테스트 데이터에 대한 예측\n",
    "    print(\"랜덤 포레스트 정확도:\", accuracy_score(y_test, forest_predicted)) #예측값과 실제값 비교\n",
    "    \n",
    "    # 그래디언트 부스팅 트리(GradientBoostingClassifier)\n",
    "    grbt = GradientBoostingClassifier(random_state=0, verbose=3) # verbose=3\n",
    "    grbt.fit(tfidfv, y_train)\n",
    "\n",
    "    grbt_predicted = grbt.predict(tfidfv_test) #테스트 데이터에 대한 예측\n",
    "    print(\"그래디언트 부스팅 트리 정확도:\", accuracy_score(y_test, grbt_predicted)) #예측값과 실제값 비교\n",
    "    \n",
    "    # 보팅(Voting)\n",
    "    voting_classifier = VotingClassifier(estimators=[\n",
    "         ('lr', LogisticRegression(C=10000, penalty='l2')),\n",
    "        ('cb', ComplementNB()),\n",
    "        ('grbt', GradientBoostingClassifier(random_state=0))\n",
    "        ], voting='soft', n_jobs=-1)\n",
    "    voting_classifier.fit(tfidfv, y_train)\n",
    "    \n",
    "    voting_classifier_predicted = voting_classifier.predict(tfidfv_test) #테스트 데이터에 대한 예측\n",
    "    print(\"보팅 정확도:\", accuracy_score(y_test, voting_classifier_predicted)) #예측값과 실제값 비교\n",
    "    \n",
    "    return mod, cb, lr, lsvc, tree, forest, grbt, voting_classifier"
   ]
  },
  {
   "cell_type": "code",
   "execution_count": 44,
   "id": "980c20cc",
   "metadata": {},
   "outputs": [
    {
     "name": "stdout",
     "output_type": "stream",
     "text": [
      "나이브 베이즈 정확도: 0.5997328584149599\n",
      "CNB 정확도: 0.7649154051647373\n"
     ]
    },
    {
     "name": "stderr",
     "output_type": "stream",
     "text": [
      "/home/aiffel-dj26/anaconda3/envs/aiffel/lib/python3.7/site-packages/sklearn/linear_model/_logistic.py:764: ConvergenceWarning: lbfgs failed to converge (status=1):\n",
      "STOP: TOTAL NO. of ITERATIONS REACHED LIMIT.\n",
      "\n",
      "Increase the number of iterations (max_iter) or scale the data as shown in:\n",
      "    https://scikit-learn.org/stable/modules/preprocessing.html\n",
      "Please also refer to the documentation for alternative solver options:\n",
      "    https://scikit-learn.org/stable/modules/linear_model.html#logistic-regression\n",
      "  extra_warning_msg=_LOGISTIC_SOLVER_CONVERGENCE_MSG)\n"
     ]
    },
    {
     "name": "stdout",
     "output_type": "stream",
     "text": [
      "로지스틱 회귀 정확도: 0.813446126447017\n"
     ]
    },
    {
     "name": "stderr",
     "output_type": "stream",
     "text": [
      "/home/aiffel-dj26/anaconda3/envs/aiffel/lib/python3.7/site-packages/sklearn/svm/_base.py:977: ConvergenceWarning: Liblinear failed to converge, increase the number of iterations.\n",
      "  \"the number of iterations.\", ConvergenceWarning)\n"
     ]
    },
    {
     "name": "stdout",
     "output_type": "stream",
     "text": [
      "SVM 정확도: 0.784060552092609\n",
      "결정 트리 정확도: 0.6211041852181657\n",
      "랜덤 포레스트 정확도: 0.6544968833481746\n",
      "그래디언트 부스팅 트리 정확도: 0.7702582368655387\n",
      "보팅 정확도: 0.8187889581478184\n"
     ]
    }
   ],
   "source": [
    "mod, cb, lr, lsvc, tree, forest, grbt, voting_classifier = train_ml(tfidfv, y_train, tfidfv_test, y_test)"
   ]
  },
  {
   "cell_type": "markdown",
   "id": "3ccc1b72",
   "metadata": {},
   "source": [
    "## 2. 빈도수 상위 5,000개의 단어만 사용"
   ]
  },
  {
   "cell_type": "code",
   "execution_count": 26,
   "id": "85ff8dd5",
   "metadata": {},
   "outputs": [],
   "source": [
    "(x_train_5k, y_train_5k), (x_test_5k, y_test_5k) = reuters.load_data(num_words=5000, test_split=0.2)"
   ]
  },
  {
   "cell_type": "code",
   "execution_count": 27,
   "id": "cdfa66a6",
   "metadata": {},
   "outputs": [],
   "source": [
    "decoded = []\n",
    "for i in range(len(x_train_5k)):\n",
    "    t = ' '.join([index_to_word[index] for index in x_train_5k[i]])\n",
    "    decoded.append(t)\n",
    "\n",
    "x_train_5k = decoded"
   ]
  },
  {
   "cell_type": "code",
   "execution_count": 28,
   "id": "535054b5",
   "metadata": {},
   "outputs": [],
   "source": [
    "decoded = []\n",
    "for i in range(len(x_test_5k)):\n",
    "    t = ' '.join([index_to_word[index] for index in x_test_5k[i]])\n",
    "    decoded.append(t)\n",
    "\n",
    "x_test_5k = decoded"
   ]
  },
  {
   "cell_type": "code",
   "execution_count": 29,
   "id": "964fe1fb",
   "metadata": {},
   "outputs": [
    {
     "name": "stdout",
     "output_type": "stream",
     "text": [
      "(8982, 4867)\n"
     ]
    }
   ],
   "source": [
    "# 행렬 변환\n",
    "dtmvector = CountVectorizer()\n",
    "x_train_dtm_5k = dtmvector.fit_transform(x_train_5k)\n",
    "print(x_train_dtm_5k.shape)"
   ]
  },
  {
   "cell_type": "code",
   "execution_count": 30,
   "id": "00355a30",
   "metadata": {},
   "outputs": [
    {
     "name": "stdout",
     "output_type": "stream",
     "text": [
      "(8982, 4867)\n"
     ]
    }
   ],
   "source": [
    "tfidf_transformer = TfidfTransformer()\n",
    "tfidfv_5k = tfidf_transformer.fit_transform(x_train_dtm_5k)\n",
    "print(tfidfv_5k.shape)"
   ]
  },
  {
   "cell_type": "code",
   "execution_count": 31,
   "id": "e47b8001",
   "metadata": {},
   "outputs": [],
   "source": [
    "x_test_dtm_5k = dtmvector.transform(x_test_5k) # 테스트 데이터를 DTM으로 변환\n",
    "tfidfv_test_5k = tfidf_transformer.transform(x_test_dtm_5k) # DTM을 TF-IDF 행렬로 변환"
   ]
  },
  {
   "cell_type": "code",
   "execution_count": 51,
   "id": "bd40ec4b",
   "metadata": {
    "scrolled": false
   },
   "outputs": [
    {
     "name": "stdout",
     "output_type": "stream",
     "text": [
      "나이브 베이즈 정확도: 0.6731967943009796\n",
      "CNB 정확도: 0.7707034728406055\n"
     ]
    },
    {
     "name": "stderr",
     "output_type": "stream",
     "text": [
      "/home/aiffel-dj26/anaconda3/envs/aiffel/lib/python3.7/site-packages/sklearn/linear_model/_logistic.py:764: ConvergenceWarning: lbfgs failed to converge (status=1):\n",
      "STOP: TOTAL NO. of ITERATIONS REACHED LIMIT.\n",
      "\n",
      "Increase the number of iterations (max_iter) or scale the data as shown in:\n",
      "    https://scikit-learn.org/stable/modules/preprocessing.html\n",
      "Please also refer to the documentation for alternative solver options:\n",
      "    https://scikit-learn.org/stable/modules/linear_model.html#logistic-regression\n",
      "  extra_warning_msg=_LOGISTIC_SOLVER_CONVERGENCE_MSG)\n"
     ]
    },
    {
     "name": "stdout",
     "output_type": "stream",
     "text": [
      "로지스틱 회귀 정확도: 0.8058771148708815\n"
     ]
    },
    {
     "name": "stderr",
     "output_type": "stream",
     "text": [
      "/home/aiffel-dj26/anaconda3/envs/aiffel/lib/python3.7/site-packages/sklearn/svm/_base.py:977: ConvergenceWarning: Liblinear failed to converge, increase the number of iterations.\n",
      "  \"the number of iterations.\", ConvergenceWarning)\n"
     ]
    },
    {
     "name": "stdout",
     "output_type": "stream",
     "text": [
      "SVM 정확도: 0.7666963490650045\n",
      "결정 트리 정확도: 0.6179875333926982\n",
      "랜덤 포레스트 정확도: 0.701246660730187\n",
      "그래디언트 부스팅 트리 정확도: 0.767586821015138\n",
      "보팅 정확도: 0.8161175422974176\n",
      "time : 1338.3355541229248\n"
     ]
    }
   ],
   "source": [
    "start = time.time() \n",
    "\n",
    "mod_5k, cb_5k, lr_5k, lsvc_5k, tree_5k, forest_5k, grbt_5k, voting_classifier_5k = train_ml(tfidfv_5k, y_train_5k, tfidfv_test_5k, y_test_5k)\n",
    "\n",
    "print(\"time :\", time.time() - start)"
   ]
  },
  {
   "cell_type": "markdown",
   "id": "273c24c4",
   "metadata": {},
   "source": [
    "## 3. 직접 단어 개수를 설정해서 사용"
   ]
  },
  {
   "cell_type": "markdown",
   "id": "4c26766d",
   "metadata": {},
   "source": [
    "### (1) 단어 1000개 사용"
   ]
  },
  {
   "cell_type": "code",
   "execution_count": 59,
   "id": "5d628271",
   "metadata": {},
   "outputs": [
    {
     "name": "stderr",
     "output_type": "stream",
     "text": [
      "/home/aiffel-dj26/anaconda3/envs/aiffel/lib/python3.7/site-packages/tensorflow_core/python/keras/datasets/reuters.py:113: VisibleDeprecationWarning: Creating an ndarray from ragged nested sequences (which is a list-or-tuple of lists-or-tuples-or ndarrays with different lengths or shapes) is deprecated. If you meant to do this, you must specify 'dtype=object' when creating the ndarray\n",
      "  x_train, y_train = np.array(xs[:idx]), np.array(labels[:idx])\n",
      "/home/aiffel-dj26/anaconda3/envs/aiffel/lib/python3.7/site-packages/tensorflow_core/python/keras/datasets/reuters.py:114: VisibleDeprecationWarning: Creating an ndarray from ragged nested sequences (which is a list-or-tuple of lists-or-tuples-or ndarrays with different lengths or shapes) is deprecated. If you meant to do this, you must specify 'dtype=object' when creating the ndarray\n",
      "  x_test, y_test = np.array(xs[idx:]), np.array(labels[idx:])\n"
     ]
    }
   ],
   "source": [
    "(x_train_1k, y_train_1k), (x_test_1k, y_test_1k) = reuters.load_data(num_words=1000, test_split=0.2)"
   ]
  },
  {
   "cell_type": "code",
   "execution_count": 60,
   "id": "3b5c7320",
   "metadata": {},
   "outputs": [],
   "source": [
    "decoded = []\n",
    "for i in range(len(x_train_1k)):\n",
    "    t = ' '.join([index_to_word[index] for index in x_train_1k[i]])\n",
    "    decoded.append(t)\n",
    "\n",
    "x_train_1k = decoded"
   ]
  },
  {
   "cell_type": "code",
   "execution_count": 61,
   "id": "5f662f09",
   "metadata": {},
   "outputs": [],
   "source": [
    "decoded = []\n",
    "for i in range(len(x_test_1k)):\n",
    "    t = ' '.join([index_to_word[index] for index in x_test_1k[i]])\n",
    "    decoded.append(t)\n",
    "\n",
    "x_test_1k = decoded"
   ]
  },
  {
   "cell_type": "code",
   "execution_count": 62,
   "id": "b7bebfcc",
   "metadata": {},
   "outputs": [
    {
     "name": "stdout",
     "output_type": "stream",
     "text": [
      "(8982, 969)\n"
     ]
    }
   ],
   "source": [
    "dtmvector = CountVectorizer()\n",
    "x_train_dtm_1k = dtmvector.fit_transform(x_train_1k)\n",
    "print(x_train_dtm_1k.shape)"
   ]
  },
  {
   "cell_type": "code",
   "execution_count": 63,
   "id": "d15a4b72",
   "metadata": {},
   "outputs": [
    {
     "name": "stdout",
     "output_type": "stream",
     "text": [
      "(8982, 969)\n"
     ]
    }
   ],
   "source": [
    "tfidf_transformer = TfidfTransformer()\n",
    "tfidfv_1k = tfidf_transformer.fit_transform(x_train_dtm_1k)\n",
    "print(tfidfv_1k.shape)"
   ]
  },
  {
   "cell_type": "code",
   "execution_count": 64,
   "id": "eba49176",
   "metadata": {},
   "outputs": [],
   "source": [
    "x_test_dtm_1k = dtmvector.transform(x_test_1k) #테스트 데이터를 DTM으로 변환\n",
    "tfidfv_test_1k = tfidf_transformer.transform(x_test_dtm_1k) #DTM을 TF-IDF 행렬로 변환"
   ]
  },
  {
   "cell_type": "code",
   "execution_count": 66,
   "id": "ff3cd1dc",
   "metadata": {},
   "outputs": [
    {
     "name": "stdout",
     "output_type": "stream",
     "text": [
      "나이브 베이즈 정확도: 0.6856634016028496\n",
      "CNB 정확도: 0.7346393588601959\n"
     ]
    },
    {
     "name": "stderr",
     "output_type": "stream",
     "text": [
      "/home/aiffel-dj26/anaconda3/envs/aiffel/lib/python3.7/site-packages/sklearn/linear_model/_logistic.py:764: ConvergenceWarning: lbfgs failed to converge (status=1):\n",
      "STOP: TOTAL NO. of ITERATIONS REACHED LIMIT.\n",
      "\n",
      "Increase the number of iterations (max_iter) or scale the data as shown in:\n",
      "    https://scikit-learn.org/stable/modules/preprocessing.html\n",
      "Please also refer to the documentation for alternative solver options:\n",
      "    https://scikit-learn.org/stable/modules/linear_model.html#logistic-regression\n",
      "  extra_warning_msg=_LOGISTIC_SOLVER_CONVERGENCE_MSG)\n"
     ]
    },
    {
     "name": "stdout",
     "output_type": "stream",
     "text": [
      "로지스틱 회귀 정확도: 0.780053428317008\n"
     ]
    },
    {
     "name": "stderr",
     "output_type": "stream",
     "text": [
      "/home/aiffel-dj26/anaconda3/envs/aiffel/lib/python3.7/site-packages/sklearn/svm/_base.py:977: ConvergenceWarning: Liblinear failed to converge, increase the number of iterations.\n",
      "  \"the number of iterations.\", ConvergenceWarning)\n"
     ]
    },
    {
     "name": "stdout",
     "output_type": "stream",
     "text": [
      "SVM 정확도: 0.7172751558325913\n",
      "결정 트리 정확도: 0.6179875333926982\n",
      "랜덤 포레스트 정확도: 0.707479964381122\n",
      "그래디언트 부스팅 트리 정확도: 0.7457702582368655\n",
      "보팅 정확도: 0.7845057880676759\n",
      "run time : 0:18:14\n"
     ]
    }
   ],
   "source": [
    "import time\n",
    "import datetime\n",
    "\n",
    "start = time.time() \n",
    "\n",
    "mod_1k, cb_1k, lr_1k, lsvc_1k, tree_1k, forest_1k, grbt_1k, voting_classifier_1k = train_ml(tfidfv_1k, y_train_1k, tfidfv_test_1k, y_test_1k)\n",
    "\n",
    "\n",
    "sec = time.time()-start\n",
    "times = str(datetime.timedelta(seconds=sec)).split(\".\")\n",
    "times = times[0]\n",
    "print('run time :', times)"
   ]
  },
  {
   "cell_type": "markdown",
   "id": "159cfd40",
   "metadata": {},
   "source": [
    "### (2)단어 100 개 사용"
   ]
  },
  {
   "cell_type": "code",
   "execution_count": 30,
   "id": "968070cd",
   "metadata": {},
   "outputs": [],
   "source": [
    "(x_train_100, y_train_100), (x_test_100, y_test_100) = reuters.load_data(num_words=100, test_split=0.2)"
   ]
  },
  {
   "cell_type": "code",
   "execution_count": 31,
   "id": "6233349d",
   "metadata": {},
   "outputs": [],
   "source": [
    "decoded = []\n",
    "for i in range(len(x_train_1k)):\n",
    "    t = ' '.join([index_to_word[index] for index in x_train_100[i]])\n",
    "    decoded.append(t)\n",
    "\n",
    "x_train_100 = decoded"
   ]
  },
  {
   "cell_type": "code",
   "execution_count": 32,
   "id": "7db7ba15",
   "metadata": {},
   "outputs": [],
   "source": [
    "decoded = []\n",
    "for i in range(len(x_test_100)):\n",
    "    t = ' '.join([index_to_word[index] for index in x_test_100[i]])\n",
    "    decoded.append(t)\n",
    "\n",
    "x_test_100 = decoded"
   ]
  },
  {
   "cell_type": "code",
   "execution_count": 33,
   "id": "9892824b",
   "metadata": {},
   "outputs": [
    {
     "name": "stdout",
     "output_type": "stream",
     "text": [
      "(8982, 85)\n"
     ]
    }
   ],
   "source": [
    "dtmvector = CountVectorizer()\n",
    "x_train_dtm_100 = dtmvector.fit_transform(x_train_100)\n",
    "print(x_train_dtm_100.shape)"
   ]
  },
  {
   "cell_type": "code",
   "execution_count": 35,
   "id": "0693f4b2",
   "metadata": {},
   "outputs": [
    {
     "name": "stdout",
     "output_type": "stream",
     "text": [
      "(8982, 85)\n"
     ]
    }
   ],
   "source": [
    "tfidf_transformer = TfidfTransformer()\n",
    "tfidfv_100 = tfidf_transformer.fit_transform(x_train_dtm_100)\n",
    "print(tfidfv_100.shape)"
   ]
  },
  {
   "cell_type": "code",
   "execution_count": 36,
   "id": "879bdf67",
   "metadata": {},
   "outputs": [],
   "source": [
    "x_test_dtm_100 = dtmvector.transform(x_test_100) #테스트 데이터를 DTM으로 변환\n",
    "tfidfv_test_100 = tfidf_transformer.transform(x_test_dtm_100) #DTM을 TF-IDF 행렬로 변환"
   ]
  },
  {
   "cell_type": "code",
   "execution_count": 39,
   "id": "7c83e720",
   "metadata": {},
   "outputs": [
    {
     "name": "stdout",
     "output_type": "stream",
     "text": [
      "나이브 베이즈 정확도: 0.4977738201246661\n",
      "CNB 정확도: 0.5734639358860196\n"
     ]
    },
    {
     "name": "stderr",
     "output_type": "stream",
     "text": [
      "/opt/conda/lib/python3.9/site-packages/sklearn/linear_model/_logistic.py:814: ConvergenceWarning: lbfgs failed to converge (status=1):\n",
      "STOP: TOTAL NO. of ITERATIONS REACHED LIMIT.\n",
      "\n",
      "Increase the number of iterations (max_iter) or scale the data as shown in:\n",
      "    https://scikit-learn.org/stable/modules/preprocessing.html\n",
      "Please also refer to the documentation for alternative solver options:\n",
      "    https://scikit-learn.org/stable/modules/linear_model.html#logistic-regression\n",
      "  n_iter_i = _check_optimize_result(\n"
     ]
    },
    {
     "name": "stdout",
     "output_type": "stream",
     "text": [
      "로지스틱 회귀 정확도: 0.6861086375779163\n"
     ]
    },
    {
     "name": "stderr",
     "output_type": "stream",
     "text": [
      "/opt/conda/lib/python3.9/site-packages/sklearn/svm/_base.py:1199: ConvergenceWarning: Liblinear failed to converge, increase the number of iterations.\n",
      "  warnings.warn(\n"
     ]
    },
    {
     "name": "stdout",
     "output_type": "stream",
     "text": [
      "SVM 정확도: 0.667853962600178\n",
      "결정 트리 정확도: 0.6157613535173642\n",
      "랜덤 포레스트 정확도: 0.6380231522707035\n",
      "      Iter       Train Loss   Remaining Time \n",
      "         1           1.9769            5.77m\n",
      "         2           1.8216            5.72m\n",
      "         3           1.6932            5.69m\n",
      "         4 25348481426975588751452267176401427983885139968.0000            5.62m\n",
      "         5 25348481426975588751452267176401427983885139968.0000            5.56m\n",
      "         6 25348481426975588751452267176401427983885139968.0000            5.50m\n",
      "         7 553579415335220940767776909154579766678232297003901133310171779419175846330166261893075892335790247293745138827642624006794151501865817579441881088.0000            5.45m\n",
      "         8 553579415335220940767776909154579766678232297003901133310171779419175846330166261893075892335790247293745138827642624006794151501865817579441881088.0000            5.39m\n",
      "         9 553579415335220940767776909154579766678232297003901133310171779419175846330166261893075892335790247293745138827642624006794151501865817579441881088.0000            5.33m\n",
      "        10 553579415335220940767776909154579766678232297003901133310171779419175846330166261893075892335790247293745138827642624006794151501865817579441881088.0000            5.27m\n",
      "        11 553579415335220940767776909154579766678232297003901133310171779419175846330166261893075892335790247293745138827642624006794151501865817579441881088.0000            5.21m\n",
      "        12 553579415335220940767776909154579766678232297003901133310171779419175846330166261893075892335790247293745138827642624006794151501865817579441881088.0000            5.15m\n",
      "        13 553579415335220940767776909154579766678232297003901133310171779419175846330166261893075892335790247293745138827642624006794151501865817579441881088.0000            5.09m\n",
      "        14 553579415335220940767776909154579766678232297003901133310171779419175846330166261893075892335790247293745138827642624006794151501865817579441881088.0000            5.03m\n",
      "        15 553579415335220940767776909154579766678232297003901133310171779419175846330166261893075892335790247293745138827642624006794151501865817579441881088.0000            4.97m\n",
      "        16 553579415335220940767776909154579766678232297003901133310171779419175846330166261893075892335790247293745138827642624006794151501865817579441881088.0000            4.91m\n",
      "        17 553579415335220940767776909154579766678232297003901133310171779419175846330166261893075892335790247293745138827642624006794151501865817579441881088.0000            4.85m\n",
      "        18 553579415335220940767776909154579766678232297003901133310171779419175846330166261893075892335790247293745138827642624006794151501865817579441881088.0000            4.79m\n",
      "        19 553579415335220940767776909154579766678232297003901133310171779419175846330166261893075892335790247293745138827642624006794151501865817579441881088.0000            4.74m\n",
      "        20 553579415335220940767776909154579766678232297003901133310171779419175846330166261893075892335790247293745138827642624006794151501865817579441881088.0000            4.68m\n",
      "        21 553579415335220940767776909154579766678232297003901133310171779419175846330166261893075892335790247293745138827642624006794151501865817579441881088.0000            4.62m\n",
      "        22 553579415335220940767776909154579766678232297003901133310171779419175846330166261893075892335790247293745138827642624006794151501865817579441881088.0000            4.56m\n",
      "        23 553579415335220940767776909154579766678232297003901133310171779419175846330166261893075892335790247293745138827642624006794151501865817579441881088.0000            4.50m\n",
      "        24 553579415335220940767776909154579766678232297003901133310171779419175846330166261893075892335790247293745138827642624006794151501865817579441881088.0000            4.44m\n",
      "        25 553579415335220940767776909154579766678232297003901133310171779419175846330166261893075892335790247293745138827642624006794151501865817579441881088.0000            4.39m\n",
      "        26 553579415335220940767776909154579766678232297003901133310171779419175846330166261893075892335790247293745138827642624006794151501865817579441881088.0000            4.33m\n",
      "        27 553579415335220940767776909154579766678232297003901133310171779419175846330166261893075892335790247293745138827642624006794151501865817579441881088.0000            4.27m\n",
      "        28 553579415335220940767776909154579766678232297003901133310171779419175846330166261893075892335790247293745138827642624006794151501865817579441881088.0000            4.21m\n",
      "        29 553579415335220940767776909154579766678232297003901133310171779419175846330166261893075892335790247293745138827642624006794151501865817579441881088.0000            4.15m\n",
      "        30 553579415335220940767776909154579766678232297003901133310171779419175846330166261893075892335790247293745138827642624006794151501865817579441881088.0000            4.09m\n",
      "        31 553579415335220940767776909154579766678232297003901133310171779419175846330166261893075892335790247293745138827642624006794151501865817579441881088.0000            4.03m\n",
      "        32 553579415335220940767776909154579766678232297003901133310171779419175846330166261893075892335790247293745138827642624006794151501865817579441881088.0000            3.97m\n",
      "        33 553579415335220940767776909154579766678232297003901133310171779419175846330166261893075892335790247293745138827642624006794151501865817579441881088.0000            3.92m\n",
      "        34 553579415335220940767776909154579766678232297003901133310171779419175846330166261893075892335790247293745138827642624006794151501865817579441881088.0000            3.86m\n",
      "        35 553579415335220940767776909154579766678232297003901133310171779419175846330166261893075892335790247293745138827642624006794151501865817579441881088.0000            3.80m\n",
      "        36 553579415335220940767776909154579766678232297003901133310171779419175846330166261893075892335790247293745138827642624006794151501865817579441881088.0000            3.74m\n",
      "        37 553579415335220940767776909154579766678232297003901133310171779419175846330166261893075892335790247293745138827642624006794151501865817579441881088.0000            3.68m\n",
      "        38 553579415335220940767776909154579766678232297003901133310171779419175846330166261893075892335790247293745138827642624006794151501865817579441881088.0000            3.62m\n",
      "        39 553579415335220940767776909154579766678232297003901133310171779419175846330166261893075892335790247293745138827642624006794151501865817579441881088.0000            3.57m\n",
      "        40 553579415335220940767776909154579766678232297003901133310171779419175846330166261893075892335790247293745138827642624006794151501865817579441881088.0000            3.51m\n",
      "        41 553579415335220940767776909154579766678232297003901133310171779419175846330166261893075892335790247293745138827642624006794151501865817579441881088.0000            3.45m\n",
      "        42 553579415335220940767776909154579766678232297003901133310171779419175846330166261893075892335790247293745138827642624006794151501865817579441881088.0000            3.39m\n",
      "        43 553579415335220940767776909154579766678232297003901133310171779419175846330166261893075892335790247293745138827642624006794151501865817579441881088.0000            3.33m\n",
      "        44 553579415335220940767776909154579766678232297003901133310171779419175846330166261893075892335790247293745138827642624006794151501865817579441881088.0000            3.27m\n",
      "        45 553579415335220940767776909154579766678232297003901133310171779419175846330166261893075892335790247293745138827642624006794151501865817579441881088.0000            3.21m\n",
      "        46 553579415335220940767776909154579766678232297003901133310171779419175846330166261893075892335790247293745138827642624006794151501865817579441881088.0000            3.15m\n",
      "        47 553579415335220940767776909154579766678232297003901133310171779419175846330166261893075892335790247293745138827642624006794151501865817579441881088.0000            3.10m\n",
      "        48 553579415335220940767776909154579766678232297003901133310171779419175846330166261893075892335790247293745138827642624006794151501865817579441881088.0000            3.04m\n",
      "        49 553579415335220940767776909154579766678232297003901133310171779419175846330166261893075892335790247293745138827642624006794151501865817579441881088.0000            2.98m\n"
     ]
    },
    {
     "name": "stdout",
     "output_type": "stream",
     "text": [
      "        50 553579415335220940767776909154579766678232297003901133310171779419175846330166261893075892335790247293745138827642624006794151501865817579441881088.0000            2.92m\n",
      "        51 553579415335220940767776909154579766678232297003901133310171779419175846330166261893075892335790247293745138827642624006794151501865817579441881088.0000            2.86m\n",
      "        52 553579415335220940767776909154579766678232297003901133310171779419175846330166261893075892335790247293745138827642624006794151501865817579441881088.0000            2.80m\n",
      "        53 553579415335220940767776909154579766678232297003901133310171779419175846330166261893075892335790247293745138827642624006794151501865817579441881088.0000            2.74m\n",
      "        54 553579415335220940767776909154579766678232297003901133310171779419175846330166261893075892335790247293745138827642624006794151501865817579441881088.0000            2.69m\n",
      "        55 553579415335220940767776909154579766678232297003901133310171779419175846330166261893075892335790247293745138827642624006794151501865817579441881088.0000            2.63m\n",
      "        56 553579415335220940767776909154579766678232297003901133310171779419175846330166261893075892335790247293745138827642624006794151501865817579441881088.0000            2.57m\n",
      "        57 553579415335220940767776909154579766678232297003901133310171779419175846330166261893075892335790247293745138827642624006794151501865817579441881088.0000            2.51m\n",
      "        58 553579415335220940767776909154579766678232297003901133310171779419175846330166261893075892335790247293745138827642624006794151501865817579441881088.0000            2.45m\n",
      "        59 553579415335220940767776909154579766678232297003901133310171779419175846330166261893075892335790247293745138827642624006794151501865817579441881088.0000            2.39m\n",
      "        60 553579415335220940767776909154579766678232297003901133310171779419175846330166261893075892335790247293745138827642624006794151501865817579441881088.0000            2.34m\n",
      "        61 553579415335220940767776909154579766678232297003901133310171779419175846330166261893075892335790247293745138827642624006794151501865817579441881088.0000            2.28m\n",
      "        62 553579415335220940767776909154579766678232297003901133310171779419175846330166261893075892335790247293745138827642624006794151501865817579441881088.0000            2.22m\n",
      "        63 553579415335220940767776909154579766678232297003901133310171779419175846330166261893075892335790247293745138827642624006794151501865817579441881088.0000            2.16m\n",
      "        64 553579415335220940767776909154579766678232297003901133310171779419175846330166261893075892335790247293745138827642624006794151501865817579441881088.0000            2.10m\n",
      "        65 553579415335220940767776909154579766678232297003901133310171779419175846330166261893075892335790247293745138827642624006794151501865817579441881088.0000            2.04m\n",
      "        66 553579415335220940767776909154579766678232297003901133310171779419175846330166261893075892335790247293745138827642624006794151501865817579441881088.0000            1.99m\n",
      "        67 553579415335220940767776909154579766678232297003901133310171779419175846330166261893075892335790247293745138827642624006794151501865817579441881088.0000            1.93m\n",
      "        68 553579415335220940767776909154579766678232297003901133310171779419175846330166261893075892335790247293745138827642624006794151501865817579441881088.0000            1.87m\n",
      "        69 553579415335220940767776909154579766678232297003901133310171779419175846330166261893075892335790247293745138827642624006794151501865817579441881088.0000            1.81m\n",
      "        70 553579415335220940767776909154579766678232297003901133310171779419175846330166261893075892335790247293745138827642624006794151501865817579441881088.0000            1.75m\n",
      "        71 553579415335220940767776909154579766678232297003901133310171779419175846330166261893075892335790247293745138827642624006794151501865817579441881088.0000            1.69m\n",
      "        72 553579415335220940767776909154579766678232297003901133310171779419175846330166261893075892335790247293745138827642624006794151501865817579441881088.0000            1.64m\n",
      "        73 553579415335220940767776909154579766678232297003901133310171779419175846330166261893075892335790247293745138827642624006794151501865817579441881088.0000            1.58m\n",
      "        74 553579415335220940767776909154579766678232297003901133310171779419175846330166261893075892335790247293745138827642624006794151501865817579441881088.0000            1.52m\n",
      "        75 553579415335220940767776909154579766678232297003901133310171779419175846330166261893075892335790247293745138827642624006794151501865817579441881088.0000            1.46m\n",
      "        76 553579415335220940767776909154579766678232297003901133310171779419175846330166261893075892335790247293745138827642624006794151501865817579441881088.0000            1.40m\n",
      "        77 553579415335220940767776909154579766678232297003901133310171779419175846330166261893075892335790247293745138827642624006794151501865817579441881088.0000            1.34m\n",
      "        78 553579415335220940767776909154579766678232297003901133310171779419175846330166261893075892335790247293745138827642624006794151501865817579441881088.0000            1.29m\n",
      "        79 553579415335220940767776909154579766678232297003901133310171779419175846330166261893075892335790247293745138827642624006794151501865817579441881088.0000            1.23m\n",
      "        80 553579415335220940767776909154579766678232297003901133310171779419175846330166261893075892335790247293745138827642624006794151501865817579441881088.0000            1.17m\n",
      "        81 553579415335220940767776909154579766678232297003901133310171779419175846330166261893075892335790247293745138827642624006794151501865817579441881088.0000            1.11m\n",
      "        82 553579415335220940767776909154579766678232297003901133310171779419175846330166261893075892335790247293745138827642624006794151501865817579441881088.0000            1.05m\n",
      "        83 553579415335220940767776909154579766678232297003901133310171779419175846330166261893075892335790247293745138827642624006794151501865817579441881088.0000           59.63s\n",
      "        84 553579415335220940767776909154579766678232297003901133310171779419175846330166261893075892335790247293745138827642624006794151501865817579441881088.0000           56.13s\n",
      "        85 553579415335220940767776909154579766678232297003901133310171779419175846330166261893075892335790247293745138827642624006794151501865817579441881088.0000           52.62s\n",
      "        86 553579415335220940767776909154579766678232297003901133310171779419175846330166261893075892335790247293745138827642624006794151501865817579441881088.0000           49.11s\n",
      "        87 553579415335220940767776909154579766678232297003901133310171779419175846330166261893075892335790247293745138827642624006794151501865817579441881088.0000           45.61s\n",
      "        88 553579415335220940767776909154579766678232297003901133310171779419175846330166261893075892335790247293745138827642624006794151501865817579441881088.0000           42.10s\n",
      "        89 553579415335220940767776909154579766678232297003901133310171779419175846330166261893075892335790247293745138827642624006794151501865817579441881088.0000           38.59s\n",
      "        90 553579415335220940767776909154579766678232297003901133310171779419175846330166261893075892335790247293745138827642624006794151501865817579441881088.0000           35.08s\n",
      "        91 553579415335220940767776909154579766678232297003901133310171779419175846330166261893075892335790247293745138827642624006794151501865817579441881088.0000           31.58s\n",
      "        92 553579415335220940767776909154579766678232297003901133310171779419175846330166261893075892335790247293745138827642624006794151501865817579441881088.0000           28.07s\n",
      "        93 553579415335220940767776909154579766678232297003901133310171779419175846330166261893075892335790247293745138827642624006794151501865817579441881088.0000           24.56s\n",
      "        94 553579415335220940767776909154579766678232297003901133310171779419175846330166261893075892335790247293745138827642624006794151501865817579441881088.0000           21.05s\n",
      "        95 553579415335220940767776909154579766678232297003901133310171779419175846330166261893075892335790247293745138827642624006794151501865817579441881088.0000           17.54s\n"
     ]
    },
    {
     "name": "stdout",
     "output_type": "stream",
     "text": [
      "        96 553579415335220940767776909154579766678232297003901133310171779419175846330166261893075892335790247293745138827642624006794151501865817579441881088.0000           14.03s\n",
      "        97 553579415335220940767776909154579766678232297003901133310171779419175846330166261893075892335790247293745138827642624006794151501865817579441881088.0000           10.52s\n",
      "        98 553579415335220940767776909154579766678232297003901133310171779419175846330166261893075892335790247293745138827642624006794151501865817579441881088.0000            7.01s\n",
      "        99 553579415335220940767776909154579766678232297003901133310171779419175846330166261893075892335790247293745138827642624006794151501865817579441881088.0000            3.51s\n",
      "       100 553579415335220940767776909154579766678232297003901133310171779419175846330166261893075892335790247293745138827642624006794151501865817579441881088.0000            0.00s\n",
      "그래디언트 부스팅 트리 정확도: 0.6393588601959038\n"
     ]
    },
    {
     "name": "stderr",
     "output_type": "stream",
     "text": [
      "/opt/conda/lib/python3.9/site-packages/sklearn/linear_model/_logistic.py:814: ConvergenceWarning: lbfgs failed to converge (status=1):\n",
      "STOP: TOTAL NO. of ITERATIONS REACHED LIMIT.\n",
      "\n",
      "Increase the number of iterations (max_iter) or scale the data as shown in:\n",
      "    https://scikit-learn.org/stable/modules/preprocessing.html\n",
      "Please also refer to the documentation for alternative solver options:\n",
      "    https://scikit-learn.org/stable/modules/linear_model.html#logistic-regression\n",
      "  n_iter_i = _check_optimize_result(\n"
     ]
    },
    {
     "name": "stdout",
     "output_type": "stream",
     "text": [
      "보팅 정확도: 0.6727515583259127\n"
     ]
    },
    {
     "ename": "NameError",
     "evalue": "name 'datetime' is not defined",
     "output_type": "error",
     "traceback": [
      "\u001b[0;31m---------------------------------------------------------------------------\u001b[0m",
      "\u001b[0;31mNameError\u001b[0m                                 Traceback (most recent call last)",
      "\u001b[0;32m/tmp/ipykernel_110/2455151841.py\u001b[0m in \u001b[0;36m<module>\u001b[0;34m\u001b[0m\n\u001b[1;32m      4\u001b[0m \u001b[0;34m\u001b[0m\u001b[0m\n\u001b[1;32m      5\u001b[0m \u001b[0msec\u001b[0m \u001b[0;34m=\u001b[0m \u001b[0mtime\u001b[0m\u001b[0;34m.\u001b[0m\u001b[0mtime\u001b[0m\u001b[0;34m(\u001b[0m\u001b[0;34m)\u001b[0m\u001b[0;34m-\u001b[0m\u001b[0mstart\u001b[0m\u001b[0;34m\u001b[0m\u001b[0;34m\u001b[0m\u001b[0m\n\u001b[0;32m----> 6\u001b[0;31m \u001b[0mtimes\u001b[0m \u001b[0;34m=\u001b[0m \u001b[0mstr\u001b[0m\u001b[0;34m(\u001b[0m\u001b[0mdatetime\u001b[0m\u001b[0;34m.\u001b[0m\u001b[0mtimedelta\u001b[0m\u001b[0;34m(\u001b[0m\u001b[0mseconds\u001b[0m\u001b[0;34m=\u001b[0m\u001b[0msec\u001b[0m\u001b[0;34m)\u001b[0m\u001b[0;34m)\u001b[0m\u001b[0;34m.\u001b[0m\u001b[0msplit\u001b[0m\u001b[0;34m(\u001b[0m\u001b[0;34m\".\"\u001b[0m\u001b[0;34m)\u001b[0m\u001b[0;34m\u001b[0m\u001b[0;34m\u001b[0m\u001b[0m\n\u001b[0m\u001b[1;32m      7\u001b[0m \u001b[0mtimes\u001b[0m \u001b[0;34m=\u001b[0m \u001b[0mtimes\u001b[0m\u001b[0;34m[\u001b[0m\u001b[0;36m0\u001b[0m\u001b[0;34m]\u001b[0m\u001b[0;34m\u001b[0m\u001b[0;34m\u001b[0m\u001b[0m\n\u001b[1;32m      8\u001b[0m \u001b[0mprint\u001b[0m\u001b[0;34m(\u001b[0m\u001b[0;34m'run time :'\u001b[0m\u001b[0;34m,\u001b[0m \u001b[0mtimes\u001b[0m\u001b[0;34m)\u001b[0m\u001b[0;34m\u001b[0m\u001b[0;34m\u001b[0m\u001b[0m\n",
      "\u001b[0;31mNameError\u001b[0m: name 'datetime' is not defined"
     ]
    }
   ],
   "source": [
    "start = time.time() \n",
    "\n",
    "mod_100, cb_100, lr_100, lsvc_100, tree_100, forest_100, grbt_100, voting_classifier_100 = train_ml(tfidfv_100, y_train_100, tfidfv_test_100, y_test_100)"
   ]
  },
  {
   "cell_type": "code",
   "execution_count": 41,
   "id": "fcab7ca1",
   "metadata": {},
   "outputs": [
    {
     "name": "stdout",
     "output_type": "stream",
     "text": [
      "run time : 0:13:52\n"
     ]
    }
   ],
   "source": [
    "sec = time.time()-start\n",
    "times = str(datetime.timedelta(seconds=sec)).split(\".\")\n",
    "times = times[0]\n",
    "print('run time :', times)"
   ]
  },
  {
   "cell_type": "markdown",
   "id": "beb56703",
   "metadata": {},
   "source": [
    "### (3) 단어 10000개 사용"
   ]
  },
  {
   "cell_type": "code",
   "execution_count": 67,
   "id": "0dcaedd0",
   "metadata": {},
   "outputs": [
    {
     "name": "stderr",
     "output_type": "stream",
     "text": [
      "/home/aiffel-dj26/anaconda3/envs/aiffel/lib/python3.7/site-packages/tensorflow_core/python/keras/datasets/reuters.py:113: VisibleDeprecationWarning: Creating an ndarray from ragged nested sequences (which is a list-or-tuple of lists-or-tuples-or ndarrays with different lengths or shapes) is deprecated. If you meant to do this, you must specify 'dtype=object' when creating the ndarray\n",
      "  x_train, y_train = np.array(xs[:idx]), np.array(labels[:idx])\n",
      "/home/aiffel-dj26/anaconda3/envs/aiffel/lib/python3.7/site-packages/tensorflow_core/python/keras/datasets/reuters.py:114: VisibleDeprecationWarning: Creating an ndarray from ragged nested sequences (which is a list-or-tuple of lists-or-tuples-or ndarrays with different lengths or shapes) is deprecated. If you meant to do this, you must specify 'dtype=object' when creating the ndarray\n",
      "  x_test, y_test = np.array(xs[idx:]), np.array(labels[idx:])\n"
     ]
    }
   ],
   "source": [
    "(x_train_10k, y_train_10k), (x_test_10k, y_test_10k) = reuters.load_data(num_words=10000, test_split=0.2)"
   ]
  },
  {
   "cell_type": "code",
   "execution_count": 68,
   "id": "843ef70f",
   "metadata": {},
   "outputs": [],
   "source": [
    "decoded = []\n",
    "for i in range(len(x_train_10k)):\n",
    "    t = ' '.join([index_to_word[index] for index in x_train_10k[i]])\n",
    "    decoded.append(t)\n",
    "\n",
    "x_train_10k = decoded"
   ]
  },
  {
   "cell_type": "code",
   "execution_count": 69,
   "id": "870f821c",
   "metadata": {},
   "outputs": [],
   "source": [
    "decoded = []\n",
    "for i in range(len(x_test_10k)):\n",
    "    t = ' '.join([index_to_word[index] for index in x_test_10k[i]])\n",
    "    decoded.append(t)\n",
    "\n",
    "x_test_10k = decoded"
   ]
  },
  {
   "cell_type": "code",
   "execution_count": 70,
   "id": "b9c06b73",
   "metadata": {},
   "outputs": [
    {
     "name": "stdout",
     "output_type": "stream",
     "text": [
      "(8982, 9670)\n"
     ]
    }
   ],
   "source": [
    "dtmvector = CountVectorizer()\n",
    "x_train_dtm_10k = dtmvector.fit_transform(x_train_10k)\n",
    "print(x_train_dtm_10k.shape)"
   ]
  },
  {
   "cell_type": "code",
   "execution_count": 71,
   "id": "8dec89f6",
   "metadata": {},
   "outputs": [
    {
     "name": "stdout",
     "output_type": "stream",
     "text": [
      "(8982, 9670)\n"
     ]
    }
   ],
   "source": [
    "tfidf_transformer = TfidfTransformer()\n",
    "tfidfv_10k = tfidf_transformer.fit_transform(x_train_dtm_10k)\n",
    "print(tfidfv_10k.shape)"
   ]
  },
  {
   "cell_type": "code",
   "execution_count": 72,
   "id": "e03a937f",
   "metadata": {},
   "outputs": [],
   "source": [
    "x_test_dtm_10k = dtmvector.transform(x_test_10k) #테스트 데이터를 DTM으로 변환\n",
    "tfidfv_test_10k = tfidf_transformer.transform(x_test_dtm_10k) #DTM을 TF-IDF 행렬로 변환"
   ]
  },
  {
   "cell_type": "code",
   "execution_count": 73,
   "id": "625285cb",
   "metadata": {},
   "outputs": [
    {
     "name": "stdout",
     "output_type": "stream",
     "text": [
      "나이브 베이즈 정확도: 0.6567230632235085\n",
      "CNB 정확도: 0.7707034728406055\n"
     ]
    },
    {
     "name": "stderr",
     "output_type": "stream",
     "text": [
      "/home/aiffel-dj26/anaconda3/envs/aiffel/lib/python3.7/site-packages/sklearn/linear_model/_logistic.py:764: ConvergenceWarning: lbfgs failed to converge (status=1):\n",
      "STOP: TOTAL NO. of ITERATIONS REACHED LIMIT.\n",
      "\n",
      "Increase the number of iterations (max_iter) or scale the data as shown in:\n",
      "    https://scikit-learn.org/stable/modules/preprocessing.html\n",
      "Please also refer to the documentation for alternative solver options:\n",
      "    https://scikit-learn.org/stable/modules/linear_model.html#logistic-regression\n",
      "  extra_warning_msg=_LOGISTIC_SOLVER_CONVERGENCE_MSG)\n"
     ]
    },
    {
     "name": "stdout",
     "output_type": "stream",
     "text": [
      "로지스틱 회귀 정확도: 0.8076580587711487\n"
     ]
    },
    {
     "name": "stderr",
     "output_type": "stream",
     "text": [
      "/home/aiffel-dj26/anaconda3/envs/aiffel/lib/python3.7/site-packages/sklearn/svm/_base.py:977: ConvergenceWarning: Liblinear failed to converge, increase the number of iterations.\n",
      "  \"the number of iterations.\", ConvergenceWarning)\n"
     ]
    },
    {
     "name": "stdout",
     "output_type": "stream",
     "text": [
      "SVM 정확도: 0.7813891362422084\n",
      "결정 트리 정확도: 0.6202137132680321\n",
      "랜덤 포레스트 정확도: 0.674087266251113\n",
      "그래디언트 부스팅 트리 정확도: 0.7666963490650045\n",
      "보팅 정확도: 0.8116651825467498\n",
      "run time : 0:22:25\n"
     ]
    }
   ],
   "source": [
    "start = time.time() \n",
    "\n",
    "mod_10k, cb_10k, lr_10k, lsvc_10k, tree_10k, forest_10k, grbt_10k, voting_classifier_10k = train_ml(tfidfv_10k, y_train_10k, tfidfv_test_10k, y_test_10k)\n",
    "\n",
    "sec = time.time()-start\n",
    "times = str(datetime.timedelta(seconds=sec)).split(\".\")\n",
    "times = times[0]\n",
    "print('run time :', times)"
   ]
  },
  {
   "cell_type": "markdown",
   "id": "6197f9ba",
   "metadata": {},
   "source": [
    "### 성능 평가\n",
    "- 각 vocab size별 모델의 정확도를 이용해 성능을 평가한다."
   ]
  },
  {
   "cell_type": "markdown",
   "id": "0bc13e75",
   "metadata": {},
   "source": [
    "### 전체 단어 \n",
    "- 나이브 베이즈 정확도: 0.5997328584149599     \n",
    "- CNB 정확도: 0.7649154051647373                 \n",
    "- 로지스틱 회귀 정확도: 0.813446126447017\n",
    "- SVM 정확도: 0.784060552092609\n",
    "- 결정 트리 정확도: 0.6211041852181657\n",
    "- 랜덤 포레스트 정확도: 0.6544968833481746\n",
    "- 그래디언트 부스팅 트리 정확도: 0.7702582368655387\n",
    "- 보팅 정확도: 0.8187889581478184\n",
    "\n",
    "### 5000개\n",
    "- 나이브 베이즈 정확도: 0.6731967943009796\n",
    "- CNB 정확도: 0.7707034728406055\n",
    "- 로지스틱 회귀 정확도: 0.8058771148708815\n",
    "- SVM 정확도: 0.7666963490650045\n",
    "- 결정 트리 정확도: 0.6179875333926982\n",
    "- 랜덤 포레스트 정확도: 0.701246660730187\n",
    "- 그래디언트 부스팅 트리 정확도: 0.767586821015138\n",
    "- 보팅 정확도: 0.8161175422974176\n",
    "\n",
    "### 1000개\n",
    "- 나이브 베이즈 정확도: 0.6856634016028496\n",
    "- CNB 정확도: 0.7346393588601959\n",
    "- 로지스틱 회귀 정확도: 0.780053428317008\n",
    "- SVM 정확도: 0.7172751558325913\n",
    "- 결정 트리 정확도: 0.6179875333926982\n",
    "- 랜덤 포레스트 정확도: 0.707479964381122\n",
    "- 그래디언트 부스팅 트리 정확도: 0.7457702582368655\n",
    "- 보팅 정확도: 0.7845057880676759\n",
    "\n",
    "### 100개\n",
    "- 나이브 베이즈 정확도: 0.4977738201246661\n",
    "- CNB 정확도: 0.5734639358860196\n",
    "- 로지스틱 회귀 정확도: 0.667853962600178\n",
    "- SVM 정확도: 0.667853962600178\n",
    "- 결정 트리 정확도: 0.6157613535173642\n",
    "- 랜덤 포레스트 정확도: 0.6380231522707035\n",
    "- 그래디언트 부스팅 트리 정확도: 0.6393588601959038\n",
    "- 보팅 정확도: 0.6727515583259127\n",
    "\n",
    "### 10000개\n",
    "- 나이브 베이즈 정확도: 0.6567230632235085\n",
    "- CNB 정확도: 0.7707034728406055\n",
    "- 로지스틱 회귀 정확도: 0.8076580587711487\n",
    "- SVM 정확도: 0.7813891362422084\n",
    "- 결정 트리 정확도: 0.6202137132680321\n",
    "- 랜덤 포레스트 정확도: 0.674087266251113\n",
    "- 그래디언트 부스팅 트리 정확도: 0.7666963490650045\n",
    "- 보팅 정확도: 0.8116651825467498"
   ]
  },
  {
   "cell_type": "code",
   "execution_count": 42,
   "id": "c8fed7f5",
   "metadata": {},
   "outputs": [],
   "source": [
    "bayse = [0.5997328584149599, 0.6731967943009796, 0.6856634016028496, 0.4977738201246661, 0.6567230632235085]\n",
    "cnb = [0.7649154051647373, 0.7707034728406055, 0.7346393588601959, 0.5734639358860196, 0.7707034728406055]\n",
    "logistic = [0.813446126447017, 0.8058771148708815, 0.7346393588601959, 0.667853962600178, 0.7707034728406055]\n",
    "svm = [0.784060552092609, 0.7666963490650045, 0.7172751558325913, 0.667853962600178, 0.7813891362422084]\n",
    "tree = [0.6211041852181657, 0.6179875333926982, 0.6179875333926982, 0.6157613535173642, 0.6202137132680321]\n",
    "rf = [0.6544968833481746, 0.701246660730187, 0.707479964381122, 0.6380231522707035, 0.674087266251113]\n",
    "gbs = [0.7702582368655387, 0.767586821015138, 0.7457702582368655, 0.6393588601959038, 0.7666963490650045]\n",
    "voting = [0.8187889581478184, 0.8161175422974176, 0.7845057880676759, 0.6727515583259127, 0.8116651825467498]\n",
    "\n",
    "vocab_size_list = ['whole', '5k', '1k', '100', '10k']\n",
    "model_list = [bayse, cnb, logistic, svm, tree, rf, gbs, voting]"
   ]
  },
  {
   "cell_type": "code",
   "execution_count": 43,
   "id": "56b7bfcd",
   "metadata": {},
   "outputs": [],
   "source": [
    "acc_dict = {}\n",
    "for idx, vs in enumerate(vocab_size_list):\n",
    "    acc_list = []\n",
    "    for model in model_list:\n",
    "        acc_list.append(model[idx])\n",
    "    acc_dict[vs] = sum(acc_list)/len(model_list)"
   ]
  },
  {
   "cell_type": "code",
   "execution_count": 44,
   "id": "503e18e5",
   "metadata": {},
   "outputs": [
    {
     "data": {
      "text/plain": [
       "{'whole': 0.7283504007123776,\n",
       " '5k': 0.7399265360641141,\n",
       " '1k': 0.7159951024042743,\n",
       " '100': 0.6216050756901157,\n",
       " '10k': 0.7315227070347284}"
      ]
     },
     "execution_count": 44,
     "metadata": {},
     "output_type": "execute_result"
    }
   ],
   "source": [
    "acc_dict"
   ]
  },
  {
   "cell_type": "markdown",
   "id": "6cc990b2",
   "metadata": {},
   "source": [
    "단어 개수가 5000개일 때 가장 정확도가 높았다. 이 숫자였을 때 모델이 충분한 정보를 가지면서 과적합을 피하는 크기인 것 같다.\n",
    "voting이 대체로 높은 성능을 보였다.앙상블 학습의 특성 때문인것 같다."
   ]
  },
  {
   "cell_type": "markdown",
   "id": "9cb20bf7",
   "metadata": {},
   "source": [
    "## 4. 딥러닝 모델 학습"
   ]
  },
  {
   "cell_type": "markdown",
   "id": "d08c38a0",
   "metadata": {},
   "source": [
    "위 과정을 통해 나온 최적의 모델과 단어 수 조건에서, 본인이 선택한 다른 모델을 적용한 결과와 비교해 봅시다. 감정 분석 등에 사용했던 RNN이나 1-D CNN 등의 딥러닝 모델 중 하나를 선택해서 오늘 사용했던 데이터셋을 학습해 보고 나오는 결과를 비교해 봅시다. 단, 공정한 비교를 위해 이때 Word2Vec 등의 pretrained model은 사용하지 않도록 합니다."
   ]
  },
  {
   "cell_type": "code",
   "execution_count": 22,
   "id": "5ce4c7f7",
   "metadata": {},
   "outputs": [
    {
     "name": "stdout",
     "output_type": "stream",
     "text": [
      "Model: \"sequential_2\"\n",
      "_________________________________________________________________\n",
      "Layer (type)                 Output Shape              Param #   \n",
      "=================================================================\n",
      "embedding_2 (Embedding)      (None, None, 32)          640000    \n",
      "_________________________________________________________________\n",
      "lstm_2 (LSTM)                (None, 32)                8320      \n",
      "_________________________________________________________________\n",
      "dense (Dense)                (None, 46)                1518      \n",
      "=================================================================\n",
      "Total params: 649,838\n",
      "Trainable params: 649,838\n",
      "Non-trainable params: 0\n",
      "_________________________________________________________________\n"
     ]
    }
   ],
   "source": [
    "from tensorflow import keras\n",
    "\n",
    "vocab_size = 20000\n",
    "word_vector_dim = 32  \n",
    "\n",
    "model_LSTM = keras.Sequential()\n",
    "model_LSTM.add(keras.layers.Embedding(vocab_size, \n",
    "                                 word_vector_dim))\n",
    "model_LSTM.add(keras.layers.LSTM(32))\n",
    "# model_LSTM.add(keras.layers.Dense(128, activation='relu'))  \n",
    "model_LSTM.add(keras.layers.Dense(num_classes, activation='softmax'))  \n",
    "\n",
    "model_LSTM.summary()"
   ]
  },
  {
   "cell_type": "code",
   "execution_count": 24,
   "id": "96e3aba0",
   "metadata": {
    "scrolled": false
   },
   "outputs": [
    {
     "ename": "NameError",
     "evalue": "name 'tfidfv_10k' is not defined",
     "output_type": "error",
     "traceback": [
      "\u001b[0;31m---------------------------------------------------------------------------\u001b[0m",
      "\u001b[0;31mNameError\u001b[0m                                 Traceback (most recent call last)",
      "\u001b[0;32m/tmp/ipykernel_143/185023254.py\u001b[0m in \u001b[0;36m<module>\u001b[0;34m\u001b[0m\n\u001b[0;32m----> 1\u001b[0;31m \u001b[0mtfidfv_10k\u001b[0m\u001b[0;34m.\u001b[0m\u001b[0mshape\u001b[0m\u001b[0;34m,\u001b[0m \u001b[0my_train_10k\u001b[0m\u001b[0;34m.\u001b[0m\u001b[0mshape\u001b[0m\u001b[0;34m\u001b[0m\u001b[0;34m\u001b[0m\u001b[0m\n\u001b[0m",
      "\u001b[0;31mNameError\u001b[0m: name 'tfidfv_10k' is not defined"
     ]
    }
   ],
   "source": [
    "tfidfv_10k.shape, y_train_10k.shape"
   ]
  },
  {
   "cell_type": "code",
   "execution_count": 39,
   "id": "53366f19",
   "metadata": {},
   "outputs": [],
   "source": [
    "tfidfv_10k_arr = tfidfv_10k.toarray()# array로 변환"
   ]
  },
  {
   "cell_type": "code",
   "execution_count": 40,
   "id": "2af34e7c",
   "metadata": {},
   "outputs": [],
   "source": [
    "tfidfv_test_10k_arr = tfidfv_test_10k.toarray()"
   ]
  },
  {
   "cell_type": "code",
   "execution_count": 27,
   "id": "f4e212c8",
   "metadata": {
    "scrolled": true
   },
   "outputs": [
    {
     "name": "stdout",
     "output_type": "stream",
     "text": [
      "Train on 7185 samples, validate on 1797 samples\n",
      "Epoch 1/20\n",
      "7185/7185 [==============================] - 82s 11ms/sample - loss: 2.7577 - accuracy: 0.3441 - val_loss: 2.4127 - val_accuracy: 0.3450\n",
      "Epoch 2/20\n",
      "7185/7185 [==============================] - 79s 11ms/sample - loss: 2.4090 - accuracy: 0.3534 - val_loss: 2.4080 - val_accuracy: 0.3450\n",
      "Epoch 3/20\n",
      "7185/7185 [==============================] - 80s 11ms/sample - loss: 2.4071 - accuracy: 0.3534 - val_loss: 2.4078 - val_accuracy: 0.3450\n",
      "Epoch 4/20\n",
      "7185/7185 [==============================] - 79s 11ms/sample - loss: 2.4065 - accuracy: 0.3534 - val_loss: 2.4085 - val_accuracy: 0.3450\n",
      "Epoch 5/20\n",
      "7185/7185 [==============================] - 78s 11ms/sample - loss: 2.4069 - accuracy: 0.3534 - val_loss: 2.4062 - val_accuracy: 0.3450\n",
      "Epoch 6/20\n",
      "7185/7185 [==============================] - 78s 11ms/sample - loss: 2.4062 - accuracy: 0.3534 - val_loss: 2.4057 - val_accuracy: 0.3450\n",
      "Epoch 7/20\n",
      "7185/7185 [==============================] - 79s 11ms/sample - loss: 2.4070 - accuracy: 0.3534 - val_loss: 2.4055 - val_accuracy: 0.3450\n",
      "Epoch 8/20\n",
      "7185/7185 [==============================] - 80s 11ms/sample - loss: 2.4059 - accuracy: 0.3534 - val_loss: 2.4085 - val_accuracy: 0.3450\n",
      "Epoch 9/20\n",
      "7185/7185 [==============================] - 79s 11ms/sample - loss: 2.4066 - accuracy: 0.3534 - val_loss: 2.4043 - val_accuracy: 0.3450\n",
      "Epoch 10/20\n",
      "7185/7185 [==============================] - 79s 11ms/sample - loss: 2.4070 - accuracy: 0.3534 - val_loss: 2.4072 - val_accuracy: 0.3450\n",
      "Epoch 11/20\n",
      "7185/7185 [==============================] - 79s 11ms/sample - loss: 2.4063 - accuracy: 0.3534 - val_loss: 2.4073 - val_accuracy: 0.3450\n",
      "Epoch 12/20\n",
      "7185/7185 [==============================] - 79s 11ms/sample - loss: 2.4060 - accuracy: 0.3534 - val_loss: 2.4098 - val_accuracy: 0.3450\n",
      "Epoch 13/20\n",
      "7185/7185 [==============================] - 79s 11ms/sample - loss: 2.4065 - accuracy: 0.3534 - val_loss: 2.4102 - val_accuracy: 0.3450\n",
      "Epoch 00013: early stopping\n"
     ]
    }
   ],
   "source": [
    "es = keras.callbacks.EarlyStopping(monitor='val_loss', mode='min', verbose=1, patience=4)\n",
    "\n",
    "model_LSTM.compile(optimizer='adam',\n",
    "              loss='sparse_categorical_crossentropy',\n",
    "              metrics=['accuracy'])\n",
    "            \n",
    "epochs=20\n",
    "batch_size=64\n",
    "\n",
    "\n",
    "history_LSTM = model_LSTM.fit(tfidfv_10k_arr,\n",
    "                                y_train_10k,\n",
    "                                epochs=epochs,\n",
    "                                batch_size=batch_size,\n",
    "                                callbacks=[es],\n",
    "                                validation_split=0.2,\n",
    "                                verbose=1)"
   ]
  },
  {
   "cell_type": "code",
   "execution_count": 30,
   "id": "9e17da33",
   "metadata": {},
   "outputs": [
    {
     "name": "stdout",
     "output_type": "stream",
     "text": [
      "2246/2246 - 19s - loss: 2.4174 - accuracy: 0.3620\n",
      "[2.4173861999970296, 0.36197686]\n"
     ]
    }
   ],
   "source": [
    "results = model_LSTM.evaluate(tfidfv_test_10k_arr,  y_test_10k, verbose=2)\n",
    "print(results)"
   ]
  },
  {
   "cell_type": "code",
   "execution_count": 39,
   "id": "abeee5f4",
   "metadata": {},
   "outputs": [
    {
     "data": {
      "text/plain": [
       "True"
      ]
     },
     "execution_count": 39,
     "metadata": {},
     "output_type": "execute_result"
    }
   ],
   "source": [
    "sparse.issparse(tfidfv_test_10k)"
   ]
  },
  {
   "cell_type": "code",
   "execution_count": 38,
   "id": "6d5f89c7",
   "metadata": {},
   "outputs": [
    {
     "data": {
      "text/plain": [
       "False"
      ]
     },
     "execution_count": 38,
     "metadata": {},
     "output_type": "execute_result"
    }
   ],
   "source": [
    "sparse.issparse(tfidfv_test_10k_arr)"
   ]
  },
  {
   "cell_type": "markdown",
   "id": "4726ca73",
   "metadata": {},
   "source": [
    "- toarray(), todense() 모두 sparse했던 행렬을 dense하게 변환시킨 것을 확인했다. \n",
    "- TF-IDF행렬로 vectorizing한 input을 사용하기 때문에 행렬형태인 todense()의 결과를 모델에 사용하겠다."
   ]
  },
  {
   "cell_type": "markdown",
   "id": "3c9f7ac7",
   "metadata": {},
   "source": [
    "### 성능 향상\n",
    "- 모델의 레이어를 추가하며 accuracy를 향상시킨다."
   ]
  },
  {
   "cell_type": "code",
   "execution_count": 41,
   "id": "03681433",
   "metadata": {},
   "outputs": [],
   "source": [
    "from tensorflow import keras\n",
    "\n",
    "def rnn(num_layer=8):\n",
    "\n",
    "    model_dense = keras.Sequential()\n",
    "    model_dense.add(keras.layers.Dense(num_layer*4, activation='relu', input_shape=(tfidfv_10k_dense.shape[1],)))  \n",
    "    model_dense.add(keras.layers.Dense(num_layer*4, activation='relu')) \n",
    "    model_dense.add(keras.layers.Dense(num_layer*8, activation='relu')) \n",
    "    model_dense.add(keras.layers.Dense(num_layer*16, activation='relu'))  \n",
    "    model_dense.add(keras.layers.Dense(num_classes, activation='softmax'))  \n",
    "\n",
    "    model_dense.summary()\n",
    "    \n",
    "    es = keras.callbacks.EarlyStopping(monitor='val_loss', mode='min', verbose=1, patience=4)\n",
    "\n",
    "    model_dense.compile(optimizer='adam',\n",
    "                  loss='sparse_categorical_crossentropy',\n",
    "                  metrics=['accuracy'])\n",
    "\n",
    "    epochs=20\n",
    "    batch_size=128\n",
    "\n",
    "    history_dense = model_dense.fit(tfidfv_10k_dense,\n",
    "                                    y_train_10k,\n",
    "                                    epochs=epochs,\n",
    "                                    batch_size=batch_size,\n",
    "                                    callbacks=[es],\n",
    "                                    validation_split=0.2,\n",
    "                                    verbose=1)\n",
    "    \n",
    "    results = model_dense.evaluate(tfidfv_test_10k_dense,  y_test_10k, verbose=2)\n",
    "    print(results)\n",
    "    \n",
    "    return history_dense, model_dense"
   ]
  },
  {
   "cell_type": "code",
   "execution_count": 42,
   "id": "1be5faf0",
   "metadata": {
    "scrolled": true
   },
   "outputs": [
    {
     "name": "stdout",
     "output_type": "stream",
     "text": [
      "Model: \"sequential\"\n",
      "_________________________________________________________________\n",
      "Layer (type)                 Output Shape              Param #   \n",
      "=================================================================\n",
      "dense (Dense)                (None, 32)                591360    \n",
      "_________________________________________________________________\n",
      "dense_1 (Dense)              (None, 32)                1056      \n",
      "_________________________________________________________________\n",
      "dense_2 (Dense)              (None, 64)                2112      \n",
      "_________________________________________________________________\n",
      "dense_3 (Dense)              (None, 128)               8320      \n",
      "_________________________________________________________________\n",
      "dense_4 (Dense)              (None, 46)                5934      \n",
      "=================================================================\n",
      "Total params: 608,782\n",
      "Trainable params: 608,782\n",
      "Non-trainable params: 0\n",
      "_________________________________________________________________\n",
      "Train on 7185 samples, validate on 1797 samples\n",
      "Epoch 1/20\n",
      "7185/7185 [==============================] - 1s 157us/sample - loss: 2.8339 - accuracy: 0.3491 - val_loss: 1.9976 - val_accuracy: 0.3450\n",
      "Epoch 2/20\n",
      "7185/7185 [==============================] - 1s 78us/sample - loss: 1.7319 - accuracy: 0.5228 - val_loss: 1.5294 - val_accuracy: 0.6205\n",
      "Epoch 3/20\n",
      "7185/7185 [==============================] - 1s 79us/sample - loss: 1.2888 - accuracy: 0.6747 - val_loss: 1.2876 - val_accuracy: 0.6622\n",
      "Epoch 4/20\n",
      "7185/7185 [==============================] - 1s 79us/sample - loss: 0.9827 - accuracy: 0.7368 - val_loss: 1.1549 - val_accuracy: 0.7390\n",
      "Epoch 5/20\n",
      "7185/7185 [==============================] - 1s 80us/sample - loss: 0.7295 - accuracy: 0.8177 - val_loss: 1.1178 - val_accuracy: 0.7457\n",
      "Epoch 6/20\n",
      "7185/7185 [==============================] - 1s 79us/sample - loss: 0.5511 - accuracy: 0.8537 - val_loss: 1.1790 - val_accuracy: 0.7468\n",
      "Epoch 7/20\n",
      "7185/7185 [==============================] - 1s 79us/sample - loss: 0.4422 - accuracy: 0.8863 - val_loss: 1.2084 - val_accuracy: 0.7479\n",
      "Epoch 8/20\n",
      "7185/7185 [==============================] - 1s 77us/sample - loss: 0.3422 - accuracy: 0.9158 - val_loss: 1.3051 - val_accuracy: 0.7568\n",
      "Epoch 9/20\n",
      "7185/7185 [==============================] - 1s 79us/sample - loss: 0.2790 - accuracy: 0.9289 - val_loss: 1.3203 - val_accuracy: 0.7501\n",
      "Epoch 00009: early stopping\n",
      "2246/2246 - 0s - loss: 1.4115 - accuracy: 0.7324\n",
      "[1.4114500380793746, 0.7324132]\n"
     ]
    }
   ],
   "source": [
    "history_dense, model_dense = rnn()"
   ]
  },
  {
   "cell_type": "code",
   "execution_count": 27,
   "id": "9bebddb7",
   "metadata": {},
   "outputs": [],
   "source": [
    "def visualize_train(train_history):\n",
    "    # summarize history for accuracy\n",
    "    plt.plot(train_history.history['accuracy'])\n",
    "    plt.plot(train_history.history['val_accuracy'])\n",
    "    plt.title('accuracy')\n",
    "    plt.ylabel('accuracy')\n",
    "    plt.xlabel('epoch')\n",
    "    plt.legend(['train', 'val'], loc='upper left')\n",
    "    plt.show()\n",
    "    # summarize history for loss\n",
    "    plt.plot(train_history.history['loss'])\n",
    "    plt.plot(train_history.history['val_loss'])\n",
    "    plt.title('loss')\n",
    "    plt.ylabel('loss')\n",
    "    plt.xlabel('epoch')\n",
    "    plt.legend(['train', 'val'], loc='upper left')\n",
    "    plt.show()"
   ]
  },
  {
   "cell_type": "code",
   "execution_count": 28,
   "id": "8849dabc",
   "metadata": {
    "scrolled": false
   },
   "outputs": [
    {
     "data": {
      "image/png": "[encoded data removed]",
      "text/plain": [
       "<Figure size 432x288 with 1 Axes>"
      ]
     },
     "metadata": {
      "needs_background": "light"
     },
     "output_type": "display_data"
    },
    {
     "data": {
      "image/png": "[encoded data removed]",
      "text/plain": [
       "<Figure size 432x288 with 1 Axes>"
      ]
     },
     "metadata": {
      "needs_background": "light"
     },
     "output_type": "display_data"
    }
   ],
   "source": [
    "visualize_train(history_dense)"
   ]
  },
  {
   "cell_type": "markdown",
   "id": "15cfa36c",
   "metadata": {},
   "source": [
    "딥러닝 모델이 머신러닝에 비해 성능이 오히려 떨어졌다."
   ]
  },
  {
   "cell_type": "markdown",
   "id": "e8f196c7",
   "metadata": {},
   "source": [
    "## 루브릭\n",
    "아래의 기준을 바탕으로 프로젝트를 평가합니다."
   ]
  },
  {
   "cell_type": "markdown",
   "id": "053a988e",
   "metadata": {},
   "source": [
    "| 평가요소 | 상세기준 |\n",
    "|----------|----------|\n",
    "| 1.분류 모델의 accuracy가 기준 이상 높게 나왔는가? | 3가지 단어 개수에 대해 8가지 머신러닝 기법을 적용하여 그중 최적의 솔루션을 도출하였다. |\n",
    "| 2.분류 모델의 F1 score가 기준 이상 높게 나왔는가? | Vocabulary size에 따른 각 머신러닝 모델의 성능변화 추이를 살피고, 해당 머신러닝 알고리즘의 특성에 근거해 원인을 분석하였다. |\n",
    "| 3.딥러닝 모델을 활용해 성능이 비교 및 확인되었는가? | 동일한 데이터셋과 전처리 조건으로 딥러닝 모델의 성능과 비교하여 결과에 따른 원인을 분석하였다. |\n"
   ]
  },
  {
   "cell_type": "markdown",
   "id": "9c8c2f70",
   "metadata": {},
   "source": [
    "## 회고\n",
    "1. 5가지의 경우를 테스트하고 모델 별 accuracy를 확인했다. 5000개일 떄 정확도가 가장 높았고, voting이 전체적으로 성능이 좋게 나왔다.\n",
    "2. 네 높게 나왔습니다. voting의 앙상블 기법으로 인해서 높게 나온 것 같습니다.\n",
    "3. 10000개의 데이터 셋이였을 때 머신러닝이 더 높게 나왔다. 학습 데이터의 양이 적어 특징 추출이 잘 되지 않았던 것 같다.\n",
    "\n",
    "느낀점:  머신러닝의 경우 학습시간이 오래걸렸고,  rnn으로 자주 사용되는 lstm으로 학습했을 때는 정확도가 나오지 않아서 어려웠다. "
   ]
  },
  {
   "cell_type": "code",
   "execution_count": null,
   "id": "c6cd0999",
   "metadata": {},
   "outputs": [],
   "source": []
  }
 ],
 "metadata": {
  "kernelspec": {
   "display_name": "Python 3 (ipykernel)",
   "language": "python",
   "name": "python3"
  },
  "language_info": {
   "codemirror_mode": {
    "name": "ipython",
    "version": 3
   },
   "file_extension": ".py",
   "mimetype": "text/x-python",
   "name": "python",
   "nbconvert_exporter": "python",
   "pygments_lexer": "ipython3",
   "version": "3.9.7"
  }
 },
 "nbformat": 4,
 "nbformat_minor": 5
}
