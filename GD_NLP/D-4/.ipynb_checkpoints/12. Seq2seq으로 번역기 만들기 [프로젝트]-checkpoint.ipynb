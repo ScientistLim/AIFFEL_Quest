{
 "cells": [
  {
   "cell_type": "markdown",
   "id": "474c40d1",
   "metadata": {},
   "source": [
    "# 12-1. 프로젝트: 한영 번역기 만들기"
   ]
  },
  {
   "cell_type": "markdown",
   "id": "fa40ab47",
   "metadata": {},
   "source": [
    "## 라이브러리 버전을 확인해 봅니다\n",
    "---\n",
    "사용할 라이브러리 버전을 둘러봅시다."
   ]
  },
  {
   "cell_type": "code",
   "execution_count": 2,
   "id": "25596401",
   "metadata": {
    "scrolled": true
   },
   "outputs": [
    {
     "name": "stdout",
     "output_type": "stream",
     "text": [
      "1.3.3\n",
      "2.6.0\n",
      "3.4.3\n"
     ]
    }
   ],
   "source": [
    "import pandas\n",
    "import tensorflow\n",
    "import matplotlib\n",
    "\n",
    "print(pandas.__version__)\n",
    "print(tensorflow.__version__)\n",
    "print(matplotlib.__version__)"
   ]
  },
  {
   "cell_type": "markdown",
   "id": "bc3d28c4",
   "metadata": {},
   "source": [
    "## Step 1. 데이터 다운로드\n",
    "---\n",
    "아래 링크에서 korean-english-park.train.tar.gz 를 다운로드받아 한영 병렬 데이터를 확보합니다\n",
    "- [jungyeul/korean-parallel-corpora](https://github.com/jungyeul/korean-parallel-corpora/tree/master/korean-english-news-v1)"
   ]
  },
  {
   "cell_type": "code",
   "execution_count": 3,
   "id": "d1cff614",
   "metadata": {},
   "outputs": [
    {
     "name": "stdout",
     "output_type": "stream",
     "text": [
      "2.6.0\n"
     ]
    }
   ],
   "source": [
    "import tensorflow as tf\n",
    "import numpy as np\n",
    "\n",
    "from sklearn.model_selection import train_test_split\n",
    "\n",
    "import matplotlib.ticker as ticker\n",
    "import matplotlib.pyplot as plt\n",
    "\n",
    "import time\n",
    "import re\n",
    "import os\n",
    "import io\n",
    "import random\n",
    "\n",
    "print(tf.__version__)"
   ]
  },
  {
   "cell_type": "code",
   "execution_count": 10,
   "id": "f867c147",
   "metadata": {},
   "outputs": [
    {
     "name": "stdout",
     "output_type": "stream",
     "text": [
      "/aiffel/aiffel/korean-english-news-v1\n"
     ]
    }
   ],
   "source": [
    "file_path = os.getenv('HOME')+'/aiffel/korean-english-news-v1'\n",
    "print(file_path)"
   ]
  },
  {
   "cell_type": "code",
   "execution_count": 8,
   "id": "20829aff",
   "metadata": {
    "scrolled": true
   },
   "outputs": [],
   "source": [
    "def load_file(file_name):\n",
    "    with open(file_path+'/{}'.format(file_name), \"r\") as f:\n",
    "        raw = f.read().splitlines()\n",
    "\n",
    "    print(\"Data Size:\", len(raw))\n",
    "    print(\"Example:\")\n",
    "\n",
    "    for sen in raw[0:100][::20]: \n",
    "        print(\">>\", sen)\n",
    "    \n",
    "    return raw"
   ]
  },
  {
   "cell_type": "code",
   "execution_count": 19,
   "id": "59170e53",
   "metadata": {},
   "outputs": [
    {
     "name": "stdout",
     "output_type": "stream",
     "text": [
      "Data Size: 94123\n",
      "Example:\n",
      ">> 개인용 컴퓨터 사용의 상당 부분은 \"이것보다 뛰어날 수 있느냐?\"\n",
      ">> 북한의 핵무기 계획을 포기하도록 하려는 압력이 거세지고 있는 가운데, 일본과 북한의 외교관들이 외교 관계를 정상화하려는 회담을 재개했다.\n",
      ">> \"경호 로보트가 침입자나 화재를 탐지하기 위해서 개인적으로, 그리고 전문적으로 사용되고 있습니다.\"\n",
      ">> 수자원부 당국은 논란이 되고 있고, 막대한 비용이 드는 이 사업에 대해 내년에 건설을 시작할 계획이다.\n",
      ">> 또한 근력 운동은 활발하게 걷는 것이나 최소한 20분 동안 뛰는 것과 같은 유산소 활동에서 얻는 운동 효과를 심장과 폐에 주지 않기 때문에, 연구학자들은 근력 운동이 심장에 큰 영향을 미치는지 여부에 대해 논쟁을 해왔다.\n",
      "total data size: 94123\n"
     ]
    }
   ],
   "source": [
    "raw_ko = load_file('korean-english-park.train.ko')\n",
    "print('total data size:', len(raw_ko))"
   ]
  },
  {
   "cell_type": "code",
   "execution_count": 20,
   "id": "7bd81f71",
   "metadata": {
    "scrolled": true
   },
   "outputs": [
    {
     "name": "stdout",
     "output_type": "stream",
     "text": [
      "Data Size: 94123\n",
      "Example:\n",
      ">> Much of personal computing is about \"can you top this?\"\n",
      ">> Amid mounting pressure on North Korea to abandon its nuclear weapons program Japanese and North Korean diplomats have resumed talks on normalizing diplomatic relations.\n",
      ">> “Guard robots are used privately and professionally to detect intruders or fire,” Karlsson said.\n",
      ">> Authorities from the Water Resources Ministry plan to begin construction next year on the controversial and hugely expensive project.\n",
      ">> Researchers also have debated whether weight-training has a big impact on the heart, since it does not give the heart and lungs the kind of workout they get from aerobic activities such as brisk walking or running for at least 20 minutes.\n",
      "total data size: 94123\n"
     ]
    }
   ],
   "source": [
    "raw_en = load_file('korean-english-park.train.en')\n",
    "print('total data size:', len(raw_en))"
   ]
  },
  {
   "cell_type": "markdown",
   "id": "c55232b8",
   "metadata": {},
   "source": [
    "## Step 2. 데이터 정제\n",
    "1. set 데이터형이 중복을 허용하지 않는다는 것을 활용해 중복된 데이터를 제거하도록 합니다. 데이터의 병렬 쌍이 흐트러지지 않게 주의하세요! 중복을 제거한 데이터를 cleaned_corpus 에 저장합니다.\n",
    "\n",
    "2. 앞서 정의한 preprocessing() 함수는 한글에서는 동작하지 않습니다. 한글에 적용할 수 있는 정규식을 추가하여 함수를 재정의하세요!\n",
    "\n",
    "3. 타겟 언어인 영문엔 `<start>` 토큰과 `<end>` 토큰을 추가하고 `split()` 함수를 이용하여 토큰화합니다. 한글 토큰화는 KoNLPy의 `mecab` 클래스를 사용합니다.\n",
    "\n",
    "모든 데이터를 사용할 경우 학습에 굉장히 오랜 시간이 걸립니다. cleaned_corpus로부터 토큰의 길이가 40 이하인 데이터를 선별하여 eng_corpus와 kor_corpus를 각각 구축하세요."
   ]
  },
  {
   "cell_type": "markdown",
   "id": "def01f3a",
   "metadata": {},
   "source": [
    "### Step 2.1."
   ]
  },
  {
   "cell_type": "code",
   "execution_count": 28,
   "id": "c33bcec3",
   "metadata": {},
   "outputs": [],
   "source": [
    "raw = zip(raw_ko, raw_en) # 하나로 합치기\n",
    "raw_list = list(raw) # zip 객체를 list로 변환하여 데이터를 복사"
   ]
  },
  {
   "cell_type": "code",
   "execution_count": 29,
   "id": "41ca46f6",
   "metadata": {},
   "outputs": [
    {
     "data": {
      "text/plain": [
       "78968"
      ]
     },
     "execution_count": 29,
     "metadata": {},
     "output_type": "execute_result"
    }
   ],
   "source": [
    "set_raw = set(raw_list)\n",
    "len(set_raw)"
   ]
  },
  {
   "cell_type": "code",
   "execution_count": 30,
   "id": "370f1685",
   "metadata": {},
   "outputs": [],
   "source": [
    "cleaned_corpus_ko, cleaned_corpus_en = zip(*set_raw)"
   ]
  },
  {
   "cell_type": "code",
   "execution_count": 31,
   "id": "4940bc95",
   "metadata": {
    "scrolled": true
   },
   "outputs": [
    {
     "name": "stdout",
     "output_type": "stream",
     "text": [
      "korean data size: 78968\n",
      "english data size: 78968\n"
     ]
    }
   ],
   "source": [
    "print('korean data size:', len(cleaned_corpus_ko))\n",
    "print('english data size:', len(cleaned_corpus_en))"
   ]
  },
  {
   "cell_type": "code",
   "execution_count": 32,
   "id": "decfaa9c",
   "metadata": {},
   "outputs": [
    {
     "data": {
      "text/plain": [
       "'최근에 조류독감으로 사망한 사람은 나이지리아 라고스에서 사망한 22 세의 여성이라고 WHO측은 4일 밝혔다.'"
      ]
     },
     "execution_count": 32,
     "metadata": {},
     "output_type": "execute_result"
    }
   ],
   "source": [
    "cleaned_corpus_ko[100]"
   ]
  },
  {
   "cell_type": "code",
   "execution_count": 33,
   "id": "35afaf6e",
   "metadata": {},
   "outputs": [
    {
     "data": {
      "text/plain": [
       "'The latest case confirmed by laboratory tests was that of a 22-year-old deceased female from Lagos, Nigeria, WHO officials said Saturday.'"
      ]
     },
     "execution_count": 33,
     "metadata": {},
     "output_type": "execute_result"
    }
   ],
   "source": [
    "cleaned_corpus_en[100]"
   ]
  },
  {
   "cell_type": "markdown",
   "id": "1fc25e9f",
   "metadata": {},
   "source": [
    "## Step 2.2., 2.3."
   ]
  },
  {
   "cell_type": "code",
   "execution_count": 46,
   "id": "31eba4f4",
   "metadata": {},
   "outputs": [],
   "source": [
    "def preprocess_sentence(sentence, s_token=False, e_token=False):\n",
    "    sentence = sentence.lower().strip()\n",
    "\n",
    "    sentence = re.sub(r\"([?.!,])\", r\" \\1 \", sentence)\n",
    "    sentence = re.sub(r'[\" \"]+', \" \", sentence)\n",
    "    sentence = re.sub(r\"[^a-zA-Z?.!가-힣ㄱ-ㅎㅏ-ㅣ]+\", \" \", sentence) #한글에 적용할 수 있도록 변경\n",
    "\n",
    "    sentence = sentence.strip()\n",
    "\n",
    "    if s_token:\n",
    "        sentence = '<start> ' + sentence\n",
    "\n",
    "    if e_token:\n",
    "        sentence += ' <end>'\n",
    "    \n",
    "    return sentence"
   ]
  },
  {
   "cell_type": "code",
   "execution_count": 47,
   "id": "47113328",
   "metadata": {},
   "outputs": [
    {
     "name": "stdout",
     "output_type": "stream",
     "text": [
      "그러나 공화당의 경우 1410만 명이 투표에 임했다. For Republicans, the number is 14.1 million.\n"
     ]
    }
   ],
   "source": [
    "for ko, en in zip(cleaned_corpus_ko, cleaned_corpus_en):\n",
    "    print(ko, en)\n",
    "    break"
   ]
  },
  {
   "cell_type": "code",
   "execution_count": 48,
   "id": "027af2ba",
   "metadata": {
    "scrolled": true
   },
   "outputs": [
    {
     "name": "stdout",
     "output_type": "stream",
     "text": [
      "korean data size: 16514\n",
      "english data size: 16514\n",
      "Korean: 영국태생의 아서 클라크는 년 스리랑카로 이민해\n",
      "English: <start> the british born author who moved to sri lanka in has written more than sci fi books including <end>\n"
     ]
    }
   ],
   "source": [
    "enc_corpus = []\n",
    "dec_corpus = []\n",
    "\n",
    "cnt=0\n",
    "for ko, en in zip(cleaned_corpus_ko, cleaned_corpus_en):\n",
    "    temp_ko = preprocess_sentence(ko)\n",
    "    temp_en = preprocess_sentence(en, s_token=True, e_token=True)\n",
    "\n",
    "    if len(temp_ko) <= 40:\n",
    "        enc_corpus.append(temp_ko)\n",
    "        dec_corpus.append(temp_en)\n",
    "    \n",
    "print('korean data size:', len(enc_corpus))\n",
    "print('english data size:', len(dec_corpus))\n",
    "print(\"Korean:\", enc_corpus[500])   \n",
    "print(\"English:\", dec_corpus[500])  "
   ]
  },
  {
   "cell_type": "code",
   "execution_count": 50,
   "id": "3213e1d2",
   "metadata": {},
   "outputs": [
    {
     "name": "stdout",
     "output_type": "stream",
     "text": [
      "Korean: 회 아카데미 상 후보작과 후보자들이 지난주 발표됐다 .\n",
      "English: <start> nominations for the th academy awards were announced last week . <end>\n"
     ]
    }
   ],
   "source": [
    "print(\"Korean:\", enc_corpus[100])   \n",
    "print(\"English:\", dec_corpus[100])  "
   ]
  },
  {
   "cell_type": "markdown",
   "id": "892896c1",
   "metadata": {},
   "source": [
    "데이터셋 평가\n",
    "- 문장들의 짝은 잘 맞지만 문장 자체가 잘려서 나온다."
   ]
  },
  {
   "cell_type": "code",
   "execution_count": 49,
   "id": "6beb9a77",
   "metadata": {},
   "outputs": [],
   "source": [
    "from konlpy.tag import Mecab\n",
    "\n",
    "vocab_size = 50000\n",
    "def tokenize(corpus, ko=False, en=True):\n",
    "    if ko:\n",
    "        mecab = Mecab()\n",
    "        morph = [\" \".join(mecab.morphs(sen)) for sen in corpus]\n",
    "        tokenizer = tf.keras.preprocessing.text.Tokenizer(filters='',\n",
    "                                                         num_words=vocab_size)\n",
    "        tokenizer.fit_on_texts(morph)\n",
    "\n",
    "        tensor = tokenizer.texts_to_sequences(morph)\n",
    "        tensor = tf.keras.preprocessing.sequence.pad_sequences(tensor, padding='post')\n",
    "\n",
    "        \n",
    "    if en:\n",
    "        tokenizer = tf.keras.preprocessing.text.Tokenizer(filters='',\n",
    "                                                         num_words=vocab_size)\n",
    "        tokenizer.fit_on_texts(corpus)\n",
    "\n",
    "        tensor = tokenizer.texts_to_sequences(corpus)\n",
    "        tensor = tf.keras.preprocessing.sequence.pad_sequences(tensor, padding='post')\n",
    "\n",
    "    return tensor, tokenizer"
   ]
  },
  {
   "cell_type": "markdown",
   "id": "a8329d6d",
   "metadata": {},
   "source": [
    "## 2. Step 3. 데이터 토큰화\n",
    "앞서 정의한 tokenize() 함수를 사용해 데이터를 텐서로 변환하고 각각의 tokenizer를 얻으세요! 단어의 수는 실험을 통해 적당한 값을 맞춰주도록 합니다! (최소 10,000 이상!)\n",
    "\n",
    "❗ 주의: 난이도에 비해 데이터가 많지 않아 훈련 데이터와 검증 데이터를 따로 나누지는 않습니다."
   ]
  },
  {
   "cell_type": "code",
   "execution_count": 44,
   "id": "6d108f0b",
   "metadata": {},
   "outputs": [
    {
     "name": "stdout",
     "output_type": "stream",
     "text": [
      "Korean Vocab Size: 40743\n",
      "English Vocab Size: 17011\n"
     ]
    }
   ],
   "source": [
    "enc_tensor, enc_tokenizer = tokenize(enc_corpus, ko=True)\n",
    "dec_tensor, dec_tokenizer = tokenize(dec_corpus, en=True)\n",
    "\n",
    "enc_train, enc_val, dec_train, dec_val = \\\n",
    "train_test_split(enc_tensor, dec_tensor, test_size=0.2)\n",
    "\n",
    "print(\"Korean Vocab Size:\", len(enc_tokenizer.index_word))\n",
    "print(\"English Vocab Size:\", len(dec_tokenizer.index_word))"
   ]
  },
  {
   "cell_type": "markdown",
   "id": "78f19a60",
   "metadata": {},
   "source": [
    "## Step 4. 모델 설계\n",
    "한국어를 영어로 잘 번역해 줄 멋진 Attention 기반 Seq2seq 모델을 설계하세요! 앞서 만든 모델에 Dropout 모듈을 추가하면 성능이 더 좋아집니다! Embedding Size와 Hidden Size는 실험을 통해 적당한 값을 맞춰 주도록 합니다!"
   ]
  },
  {
   "cell_type": "code",
   "execution_count": 60,
   "id": "ea15bbae",
   "metadata": {},
   "outputs": [],
   "source": [
    "class BahdanauAttention(tf.keras.layers.Layer):\n",
    "    def __init__(self, units):\n",
    "        super(BahdanauAttention, self).__init__()\n",
    "        self.w_dec = tf.keras.layers.Dense(units)\n",
    "        self.w_enc = tf.keras.layers.Dense(units)\n",
    "        self.w_com = tf.keras.layers.Dense(1)\n",
    "    \n",
    "    def call(self, h_enc, h_dec):\n",
    "        # h_enc shape: [batch x length x units]\n",
    "        # h_dec shape: [batch x units]\n",
    "\n",
    "        h_enc = self.w_enc(h_enc)\n",
    "        h_dec = tf.expand_dims(h_dec, 1)\n",
    "        h_dec = self.w_dec(h_dec)\n",
    "\n",
    "        score = self.w_com(tf.nn.tanh(h_dec + h_enc))\n",
    "        \n",
    "        attn = tf.nn.softmax(score, axis=1)\n",
    "\n",
    "        context_vec = attn * h_enc\n",
    "        context_vec = tf.reduce_sum(context_vec, axis=1)\n",
    "\n",
    "        return context_vec, attn"
   ]
  },
  {
   "cell_type": "code",
   "execution_count": 61,
   "id": "38fa4738",
   "metadata": {},
   "outputs": [],
   "source": [
    "class Encoder(tf.keras.Model):\n",
    "    def __init__(self, vocab_size, embedding_dim, enc_units):\n",
    "        super(Encoder, self).__init__()\n",
    "\n",
    "        self.enc_units = enc_units\n",
    "        self.embedding = tf.keras.layers.Embedding(vocab_size, embedding_dim)\n",
    "        self.gru = tf.keras.layers.GRU(enc_units,\n",
    "                                   return_sequences=True,\n",
    "                                   dropout=0.3)  # Dropout 추가\n",
    "\n",
    "    def call(self, x):\n",
    "        out = self.embedding(x)\n",
    "        out = self.gru(out)\n",
    "\n",
    "        return out"
   ]
  },
  {
   "cell_type": "code",
   "execution_count": 62,
   "id": "1bac7020",
   "metadata": {},
   "outputs": [],
   "source": [
    "class Decoder(tf.keras.Model):\n",
    "    def __init__(self, vocab_size, embedding_dim, dec_units):\n",
    "        super(Decoder, self).__init__()\n",
    "        self.dec_units = dec_units\n",
    "        self.embedding = tf.keras.layers.Embedding(vocab_size, embedding_dim)\n",
    "        self.gru = tf.keras.layers.GRU(dec_units,\n",
    "                                   return_sequences=True,\n",
    "                                   return_state=True,\n",
    "                                   dropout=0.3)  # Dropout 추가\n",
    "        self.fc = tf.keras.layers.Dense(vocab_size)\n",
    "\n",
    "        self.attention = BahdanauAttention(self.dec_units)\n",
    "\n",
    "    def call(self, x, h_dec, enc_out):\n",
    "        context_vec, attn = self.attention(enc_out, h_dec)\n",
    "\n",
    "        out = self.embedding(x)\n",
    "        out = tf.concat([tf.expand_dims(context_vec, 1), out], axis=-1)\n",
    "\n",
    "        out, h_dec = self.gru(out)\n",
    "        out = tf.reshape(out, (-1, out.shape[2]))\n",
    "        out = self.fc(out)\n",
    "\n",
    "        return out, h_dec, attn"
   ]
  },
  {
   "cell_type": "code",
   "execution_count": 63,
   "id": "a5382ee0",
   "metadata": {},
   "outputs": [
    {
     "name": "stdout",
     "output_type": "stream",
     "text": [
      "Encoder Output: (64, 40, 128)\n",
      "Decoder Output: (64, 17012)\n",
      "Decoder Hidden State: (64, 128)\n",
      "Attention: (64, 40, 1)\n"
     ]
    }
   ],
   "source": [
    "# 코드를 실행하세요.\n",
    "\n",
    "BATCH_SIZE     = 64\n",
    "SRC_VOCAB_SIZE = len(enc_tokenizer.index_word) + 1\n",
    "TGT_VOCAB_SIZE = len(dec_tokenizer.index_word) + 1\n",
    "\n",
    "units         = 128\n",
    "embedding_dim = 128\n",
    "\n",
    "encoder = Encoder(SRC_VOCAB_SIZE, embedding_dim, units)\n",
    "decoder = Decoder(TGT_VOCAB_SIZE, embedding_dim, units)\n",
    "\n",
    "# sample input\n",
    "sequence_len = 40\n",
    "\n",
    "sample_enc = tf.random.uniform((BATCH_SIZE, sequence_len))\n",
    "sample_output = encoder(sample_enc)\n",
    "\n",
    "print ('Encoder Output:', sample_output.shape)\n",
    "\n",
    "sample_state = tf.random.uniform((BATCH_SIZE, units))\n",
    "\n",
    "sample_logits, h_dec, attn = decoder(tf.random.uniform((BATCH_SIZE, 1)),\n",
    "                                     sample_state, sample_output)\n",
    "\n",
    "print ('Decoder Output:', sample_logits.shape)\n",
    "print ('Decoder Hidden State:', h_dec.shape)\n",
    "print ('Attention:', attn.shape)"
   ]
  },
  {
   "cell_type": "markdown",
   "id": "7493aada",
   "metadata": {},
   "source": [
    "## Step 5. 훈련하기\n",
    "훈련엔 위에서 사용한 코드를 그대로 사용하되, eval_step() 부분이 없음에 유의합니다! 매 스텝 아래의 예문에 대한 번역을 생성하여 본인이 생각하기에 가장 멋지게 번역한 Case를 제출하세요! (Attention Map을 시각화해보는 것도 재밌을 거예요!)\n",
    "\n",
    "❕ 참고: 데이터의 난이도가 높은 편이므로 생각만큼 결과가 잘 안나올 수 있습니다.\n",
    "```python\n",
    "## 예문 ##\n",
    "K1) 오바마는 대통령이다.\n",
    "K2) 시민들은 도시 속에 산다.\n",
    "K3) 커피는 필요 없다.\n",
    "K4) 일곱 명의 사망자가 발생했다.\n",
    "\n",
    "## 제출 ##\n",
    "E1) obama is the president . <end>\n",
    "E2) people are victims of the city . <end>\n",
    "E2) the price is not enough . <end>\n",
    "E2) seven people have died . <end>\n",
    "```"
   ]
  },
  {
   "cell_type": "code",
   "execution_count": 64,
   "id": "766a7d4a",
   "metadata": {},
   "outputs": [],
   "source": [
    "optimizer = tf.keras.optimizers.Adam()\n",
    "loss_object = tf.keras.losses.SparseCategoricalCrossentropy(\n",
    "    from_logits=True, reduction='none')\n",
    "\n",
    "def loss_function(real, pred):\n",
    "    mask = tf.math.logical_not(tf.math.equal(real, 0))\n",
    "    loss = loss_object(real, pred)\n",
    "    \n",
    "    mask = tf.cast(mask, dtype=loss.dtype)\n",
    "    loss *= mask\n",
    "    \n",
    "    return tf.reduce_mean(loss)"
   ]
  },
  {
   "cell_type": "code",
   "execution_count": 65,
   "id": "02379fbb",
   "metadata": {},
   "outputs": [],
   "source": [
    "@tf.function #훈련 외적인 텐서플로우 연산을 GPU에서 동작하게 해 훈련을 가속한다\n",
    "def train_step(src, tgt, encoder, decoder, optimizer, dec_tok):\n",
    "    bsz = src.shape[0]\n",
    "    loss = 0\n",
    "\n",
    "    with tf.GradientTape() as tape:\n",
    "        enc_out = encoder(src) #컨텍스트 벡터 생성\n",
    "        h_dec = enc_out[:, -1] #t=0일 때, Decoder의 hidden satate는 Encoder의 Final State로 정의\n",
    "        \n",
    "        dec_src = tf.expand_dims([dec_tok.word_index['<start>']] * bsz, 1) #<start> 토큰 문장 생성\n",
    "\n",
    "        for t in range(1, tgt.shape[1]):\n",
    "            pred, h_dec, _ = decoder(dec_src, h_dec, enc_out) #다음 단어(t=1)를 예측\n",
    "            \n",
    "            #예측된 단어와 정답 간의 Loss를 구한 후, t=1의 정답 단어를 다음 입력으로 사용\n",
    "            loss += loss_function(tgt[:, t], pred)\n",
    "            dec_src = tf.expand_dims(tgt[:, t], 1)\n",
    "        \n",
    "    batch_loss = (loss / int(tgt.shape[1]))\n",
    "\n",
    "    variables = encoder.trainable_variables + decoder.trainable_variables\n",
    "    gradients = tape.gradient(loss, variables)\n",
    "    optimizer.apply_gradients(zip(gradients, variables))\n",
    "    \n",
    "    return batch_loss"
   ]
  },
  {
   "cell_type": "code",
   "execution_count": 66,
   "id": "65659c61",
   "metadata": {
    "scrolled": false
   },
   "outputs": [
    {
     "name": "stderr",
     "output_type": "stream",
     "text": [
      "Epoch  1: 100%|██████████| 207/207 [02:25<00:00,  1.43it/s, Loss 1.5114]\n",
      "Test Epoch  1: 100%|██████████| 52/52 [00:43<00:00,  1.20it/s, Test Loss 1.4560]\n",
      "Epoch  2: 100%|██████████| 207/207 [00:25<00:00,  7.98it/s, Loss 1.4341]\n",
      "Test Epoch  2: 100%|██████████| 52/52 [00:03<00:00, 16.89it/s, Test Loss 1.4647]\n",
      "Epoch  3: 100%|██████████| 207/207 [00:26<00:00,  7.84it/s, Loss 1.4335]\n",
      "Test Epoch  3: 100%|██████████| 52/52 [00:03<00:00, 16.81it/s, Test Loss 1.4709]\n",
      "Epoch  4: 100%|██████████| 207/207 [00:26<00:00,  7.92it/s, Loss 1.4334]\n",
      "Test Epoch  4: 100%|██████████| 52/52 [00:03<00:00, 17.30it/s, Test Loss 1.4751]\n",
      "Epoch  5: 100%|██████████| 207/207 [00:25<00:00,  8.03it/s, Loss 1.4335]\n",
      "Test Epoch  5: 100%|██████████| 52/52 [00:02<00:00, 17.34it/s, Test Loss 1.4775]\n",
      "Epoch  6: 100%|██████████| 207/207 [00:25<00:00,  8.00it/s, Loss 1.4336]\n",
      "Test Epoch  6: 100%|██████████| 52/52 [00:03<00:00, 17.30it/s, Test Loss 1.4807]\n",
      "Epoch  7: 100%|██████████| 207/207 [00:25<00:00,  8.02it/s, Loss 1.4332]\n",
      "Test Epoch  7: 100%|██████████| 52/52 [00:02<00:00, 18.21it/s, Test Loss 1.4833]\n",
      "Epoch  8: 100%|██████████| 207/207 [00:25<00:00,  8.03it/s, Loss 1.4337]\n",
      "Test Epoch  8: 100%|██████████| 52/52 [00:03<00:00, 17.17it/s, Test Loss 1.4843]\n",
      "Epoch  9: 100%|██████████| 207/207 [00:25<00:00,  7.97it/s, Loss 1.4335]\n",
      "Test Epoch  9: 100%|██████████| 52/52 [00:03<00:00, 16.56it/s, Test Loss 1.4858]\n",
      "Epoch 10: 100%|██████████| 207/207 [00:25<00:00,  8.08it/s, Loss 1.4335]\n",
      "Test Epoch 10: 100%|██████████| 52/52 [00:03<00:00, 17.00it/s, Test Loss 1.4860]\n",
      "Epoch 11: 100%|██████████| 207/207 [00:25<00:00,  8.00it/s, Loss 1.4219]\n",
      "Test Epoch 11: 100%|██████████| 52/52 [00:03<00:00, 17.25it/s, Test Loss 1.4398]\n",
      "Epoch 12: 100%|██████████| 207/207 [00:25<00:00,  8.06it/s, Loss 1.3520]\n",
      "Test Epoch 12: 100%|██████████| 52/52 [00:03<00:00, 17.11it/s, Test Loss 1.3793]\n",
      "Epoch 13: 100%|██████████| 207/207 [00:25<00:00,  8.12it/s, Loss 1.3059]\n",
      "Test Epoch 13: 100%|██████████| 52/52 [00:02<00:00, 17.45it/s, Test Loss 1.3508]\n",
      "Epoch 14: 100%|██████████| 207/207 [00:25<00:00,  8.01it/s, Loss 1.2642]\n",
      "Test Epoch 14: 100%|██████████| 52/52 [00:02<00:00, 18.02it/s, Test Loss 1.3292]\n",
      "Epoch 15: 100%|██████████| 207/207 [00:25<00:00,  8.07it/s, Loss 1.2225]\n",
      "Test Epoch 15: 100%|██████████| 52/52 [00:03<00:00, 17.26it/s, Test Loss 1.3117]\n",
      "Epoch 16: 100%|██████████| 207/207 [00:25<00:00,  8.21it/s, Loss 1.1844]\n",
      "Test Epoch 16: 100%|██████████| 52/52 [00:02<00:00, 17.39it/s, Test Loss 1.3087]\n",
      "Epoch 17: 100%|██████████| 207/207 [00:25<00:00,  8.07it/s, Loss 1.1507]\n",
      "Test Epoch 17: 100%|██████████| 52/52 [00:02<00:00, 17.77it/s, Test Loss 1.3011]\n",
      "Epoch 18: 100%|██████████| 207/207 [00:25<00:00,  8.16it/s, Loss 1.1179]\n",
      "Test Epoch 18: 100%|██████████| 52/52 [00:02<00:00, 17.37it/s, Test Loss 1.3003]\n",
      "Epoch 19: 100%|██████████| 207/207 [00:25<00:00,  8.22it/s, Loss 1.0860]\n",
      "Test Epoch 19: 100%|██████████| 52/52 [00:02<00:00, 17.71it/s, Test Loss 1.3031]\n",
      "Epoch 20: 100%|██████████| 207/207 [00:25<00:00,  8.08it/s, Loss 1.0557]\n",
      "Test Epoch 20: 100%|██████████| 52/52 [00:02<00:00, 17.37it/s, Test Loss 1.3111]\n",
      "Epoch 21: 100%|██████████| 207/207 [00:25<00:00,  8.15it/s, Loss 1.0260]\n",
      "Test Epoch 21: 100%|██████████| 52/52 [00:02<00:00, 17.64it/s, Test Loss 1.3133]\n",
      "Epoch 22: 100%|██████████| 207/207 [00:25<00:00,  8.16it/s, Loss 0.9975]\n",
      "Test Epoch 22: 100%|██████████| 52/52 [00:02<00:00, 17.66it/s, Test Loss 1.3247]\n",
      "Epoch 23: 100%|██████████| 207/207 [00:25<00:00,  8.16it/s, Loss 0.9702]\n",
      "Test Epoch 23: 100%|██████████| 52/52 [00:02<00:00, 18.07it/s, Test Loss 1.3323]\n",
      "Epoch 24: 100%|██████████| 207/207 [00:25<00:00,  8.19it/s, Loss 0.9437]\n",
      "Test Epoch 24: 100%|██████████| 52/52 [00:02<00:00, 18.36it/s, Test Loss 1.3443]\n",
      "Epoch 25: 100%|██████████| 207/207 [00:25<00:00,  8.18it/s, Loss 0.9181]\n",
      "Test Epoch 25: 100%|██████████| 52/52 [00:02<00:00, 17.93it/s, Test Loss 1.3555]\n"
     ]
    }
   ],
   "source": [
    "# eval_step() 정의하기\n",
    "# train_step() 이후 eval_step() 진행하도록 소스 수정하기\n",
    "# Define eval_step\n",
    "\n",
    "@tf.function\n",
    "def eval_step(src, tgt, encoder, decoder, dec_tok):\n",
    "    bsz = src.shape[0]\n",
    "    loss = 0\n",
    "\n",
    "    enc_out = encoder(src)\n",
    "\n",
    "    h_dec = enc_out[:, -1]\n",
    "\n",
    "    dec_src = tf.expand_dims([dec_tok.word_index['<start>']] * bsz, 1)\n",
    "\n",
    "    for t in range(1, tgt.shape[1]):\n",
    "        pred, h_dec, _ = decoder(dec_src, h_dec, enc_out)\n",
    "\n",
    "        loss += loss_function(tgt[:, t], pred)\n",
    "        dec_src = tf.expand_dims(tgt[:, t], 1)\n",
    "\n",
    "    batch_loss = (loss / int(tgt.shape[1]))\n",
    "\n",
    "    return batch_loss\n",
    "\n",
    "\n",
    "# Training Process\n",
    "\n",
    "import matplotlib.pyplot as plt\n",
    "from tqdm import tqdm\n",
    "\n",
    "train_losses = []\n",
    "test_losses = []\n",
    "\n",
    "EPOCHS = 25\n",
    "\n",
    "for epoch in range(EPOCHS):\n",
    "    total_loss = 0\n",
    "\n",
    "    idx_list = list(range(0, enc_train.shape[0], BATCH_SIZE))\n",
    "    random.shuffle(idx_list)\n",
    "    t = tqdm(idx_list)\n",
    "\n",
    "    for (batch, idx) in enumerate(t):\n",
    "        batch_loss = train_step(enc_train[idx:idx+BATCH_SIZE],\n",
    "                                dec_train[idx:idx+BATCH_SIZE],\n",
    "                                encoder,\n",
    "                                decoder,\n",
    "                                optimizer,\n",
    "                                dec_tokenizer)\n",
    "\n",
    "        total_loss += batch_loss\n",
    "\n",
    "        t.set_description_str('Epoch %2d' % (epoch + 1))\n",
    "        t.set_postfix_str('Loss %.4f' % (total_loss.numpy() / (batch + 1)))\n",
    "    \n",
    "    train_losses.append(total_loss / len(idx_list))\n",
    "\n",
    "    test_loss = 0\n",
    "\n",
    "    idx_list = list(range(0, enc_val.shape[0], BATCH_SIZE))\n",
    "    random.shuffle(idx_list)\n",
    "    t = tqdm(idx_list)\n",
    "\n",
    "    for (test_batch, idx) in enumerate(t):\n",
    "        test_batch_loss = eval_step(enc_val[idx:idx+BATCH_SIZE],\n",
    "                                    dec_val[idx:idx+BATCH_SIZE],\n",
    "                                    encoder,\n",
    "                                    decoder,\n",
    "                                    dec_tokenizer)\n",
    "\n",
    "        test_loss += test_batch_loss\n",
    "\n",
    "        t.set_description_str('Test Epoch %2d' % (epoch + 1))\n",
    "        t.set_postfix_str('Test Loss %.4f' % (test_loss.numpy() / (test_batch + 1)))\n",
    "    test_losses.append(test_loss / len(idx_list))"
   ]
  },
  {
   "cell_type": "code",
   "execution_count": 68,
   "id": "cb7c7f2f",
   "metadata": {},
   "outputs": [
    {
     "data": {
      "image/png": "[encoded data removed]",
      "text/plain": [
       "<Figure size 720x432 with 1 Axes>"
      ]
     },
     "metadata": {
      "needs_background": "light"
     },
     "output_type": "display_data"
    }
   ],
   "source": [
    "plt.figure(figsize=(10, 6))\n",
    "plt.plot(train_losses, label='Training Loss')\n",
    "plt.plot(test_losses, label='Validation Loss')\n",
    "plt.title('Training & Validation Loss per Epoch')\n",
    "plt.xlabel('Epoch')\n",
    "plt.ylabel('Loss')\n",
    "plt.legend()\n",
    "plt.show()"
   ]
  },
  {
   "cell_type": "markdown",
   "id": "9fc77481",
   "metadata": {},
   "source": [
    "- epoch가 15일 때 val loss가 다시 증가한다. 과적합이 일어나는 것 같다."
   ]
  },
  {
   "cell_type": "code",
   "execution_count": 69,
   "id": "d447c786",
   "metadata": {},
   "outputs": [],
   "source": [
    "def evaluate(sentence, encoder, decoder):\n",
    "    attention = np.zeros((dec_train.shape[-1], enc_train.shape[-1]))\n",
    "    \n",
    "    sentence = preprocess_sentence(sentence)\n",
    "    inputs = enc_tokenizer.texts_to_sequences([sentence.split()])\n",
    "    inputs = tf.keras.preprocessing.sequence.pad_sequences(inputs,\n",
    "                                                           maxlen=enc_train.shape[-1],\n",
    "                                                           padding='post')\n",
    "\n",
    "    result = ''\n",
    "\n",
    "    enc_out = encoder(inputs)\n",
    "\n",
    "    dec_hidden = enc_out[:, -1]\n",
    "    dec_input = tf.expand_dims([dec_tokenizer.word_index['<start>']], 0)\n",
    "\n",
    "    for t in range(dec_train.shape[-1]):\n",
    "        predictions, dec_hidden, attention_weights = decoder(dec_input,\n",
    "                                                             dec_hidden,\n",
    "                                                             enc_out)\n",
    "\n",
    "        attention_weights = tf.reshape(attention_weights, (-1, ))\n",
    "        attention[t] = attention_weights.numpy()\n",
    "\n",
    "        predicted_id = \\\n",
    "        tf.argmax(tf.math.softmax(predictions, axis=-1)[0]).numpy()\n",
    "\n",
    "        result += dec_tokenizer.index_word[predicted_id] + ' '\n",
    "\n",
    "        if dec_tokenizer.index_word[predicted_id] == '<end>':\n",
    "            return result, sentence, attention\n",
    "\n",
    "        dec_input = tf.expand_dims([predicted_id], 0)\n",
    "\n",
    "    return result, sentence, attention\n",
    "\n",
    "\n",
    "def plot_attention(attention, sentence, predicted_sentence):\n",
    "    fig = plt.figure(figsize=(10,10))\n",
    "    ax = fig.add_subplot(1, 1, 1)\n",
    "    ax.matshow(attention, cmap='viridis')\n",
    "\n",
    "    fontdict = {'fontsize': 14}\n",
    "\n",
    "    ax.set_xticklabels([''] + sentence, fontdict=fontdict, rotation=90)\n",
    "    ax.set_yticklabels([''] + predicted_sentence, fontdict=fontdict)\n",
    "\n",
    "    ax.xaxis.set_major_locator(ticker.MultipleLocator(1))\n",
    "    ax.yaxis.set_major_locator(ticker.MultipleLocator(1))\n",
    "\n",
    "    plt.show()"
   ]
  },
  {
   "cell_type": "code",
   "execution_count": 70,
   "id": "ffa2a735",
   "metadata": {},
   "outputs": [],
   "source": [
    "def translate(sentence, encoder, decoder):\n",
    "    result, sentence, attention = evaluate(sentence, encoder, decoder)\n",
    "\n",
    "    print('Input: %s' % (sentence))\n",
    "    print('Predicted translation: {}'.format(result))\n",
    "    \n",
    "    attention = attention[:len(result.split()), :len(sentence.split())]\n",
    "    plot_attention(attention, sentence.split(), result.split(' '))"
   ]
  },
  {
   "cell_type": "code",
   "execution_count": 75,
   "id": "a410e7bc",
   "metadata": {
    "scrolled": false
   },
   "outputs": [
    {
     "name": "stdout",
     "output_type": "stream",
     "text": [
      "Input: 오바마는 대통령이다 .\n",
      "Predicted translation: let s a lot of the world . <end> \n"
     ]
    },
    {
     "name": "stderr",
     "output_type": "stream",
     "text": [
      "/tmp/ipykernel_50/272197317.py:45: UserWarning: FixedFormatter should only be used together with FixedLocator\n",
      "  ax.set_xticklabels([''] + sentence, fontdict=fontdict, rotation=90)\n",
      "/tmp/ipykernel_50/272197317.py:46: UserWarning: FixedFormatter should only be used together with FixedLocator\n",
      "  ax.set_yticklabels([''] + predicted_sentence, fontdict=fontdict)\n"
     ]
    },
    {
     "data": {
      "image/png": "[encoded data removed]",
      "text/plain": [
       "<Figure size 720x720 with 1 Axes>"
      ]
     },
     "metadata": {
      "needs_background": "light"
     },
     "output_type": "display_data"
    }
   ],
   "source": [
    "translate(\"오바마는 대통령이다.\", encoder, decoder)"
   ]
  },
  {
   "cell_type": "code",
   "execution_count": 76,
   "id": "f1a049d7",
   "metadata": {
    "scrolled": false
   },
   "outputs": [
    {
     "name": "stdout",
     "output_type": "stream",
     "text": [
      "Input: 시민들은 도시 속에 산다 .\n",
      "Predicted translation: but it s a lot of the world . <end> \n"
     ]
    },
    {
     "name": "stderr",
     "output_type": "stream",
     "text": [
      "/tmp/ipykernel_50/272197317.py:45: UserWarning: FixedFormatter should only be used together with FixedLocator\n",
      "  ax.set_xticklabels([''] + sentence, fontdict=fontdict, rotation=90)\n",
      "/tmp/ipykernel_50/272197317.py:46: UserWarning: FixedFormatter should only be used together with FixedLocator\n",
      "  ax.set_yticklabels([''] + predicted_sentence, fontdict=fontdict)\n"
     ]
    },
    {
     "data": {
      "image/png": "[encoded data removed]",
      "text/plain": [
       "<Figure size 720x720 with 1 Axes>"
      ]
     },
     "metadata": {
      "needs_background": "light"
     },
     "output_type": "display_data"
    }
   ],
   "source": [
    "translate(\"시민들은 도시 속에 산다.\", encoder, decoder)"
   ]
  },
  {
   "cell_type": "code",
   "execution_count": 77,
   "id": "68450197",
   "metadata": {},
   "outputs": [
    {
     "name": "stdout",
     "output_type": "stream",
     "text": [
      "Input: 커피는 필요 없다 .\n",
      "Predicted translation: the world . <end> \n"
     ]
    },
    {
     "name": "stderr",
     "output_type": "stream",
     "text": [
      "/tmp/ipykernel_50/272197317.py:45: UserWarning: FixedFormatter should only be used together with FixedLocator\n",
      "  ax.set_xticklabels([''] + sentence, fontdict=fontdict, rotation=90)\n",
      "/tmp/ipykernel_50/272197317.py:46: UserWarning: FixedFormatter should only be used together with FixedLocator\n",
      "  ax.set_yticklabels([''] + predicted_sentence, fontdict=fontdict)\n"
     ]
    },
    {
     "data": {
      "image/png": "[encoded data removed]",
      "text/plain": [
       "<Figure size 720x720 with 1 Axes>"
      ]
     },
     "metadata": {
      "needs_background": "light"
     },
     "output_type": "display_data"
    }
   ],
   "source": [
    "translate(\"커피는 필요 없다.\", encoder, decoder)"
   ]
  },
  {
   "cell_type": "code",
   "execution_count": 78,
   "id": "1be2bf8d",
   "metadata": {},
   "outputs": [
    {
     "name": "stdout",
     "output_type": "stream",
     "text": [
      "Input: 일곱 명의 사망자가 발생했다 .\n",
      "Predicted translation: the first round of baghdad . <end> \n"
     ]
    },
    {
     "name": "stderr",
     "output_type": "stream",
     "text": [
      "/tmp/ipykernel_50/272197317.py:45: UserWarning: FixedFormatter should only be used together with FixedLocator\n",
      "  ax.set_xticklabels([''] + sentence, fontdict=fontdict, rotation=90)\n",
      "/tmp/ipykernel_50/272197317.py:46: UserWarning: FixedFormatter should only be used together with FixedLocator\n",
      "  ax.set_yticklabels([''] + predicted_sentence, fontdict=fontdict)\n"
     ]
    },
    {
     "data": {
      "image/png": "[encoded data removed]",
      "text/plain": [
       "<Figure size 720x720 with 1 Axes>"
      ]
     },
     "metadata": {
      "needs_background": "light"
     },
     "output_type": "display_data"
    }
   ],
   "source": [
    "translate(\"일곱 명의 사망자가 발생했다.\", encoder, decoder)"
   ]
  },
  {
   "cell_type": "markdown",
   "id": "e5311230",
   "metadata": {},
   "source": [
    "| 평가요소 | 상세기준 |\n",
    "|----------|----------|\n",
    "| 1. 번역기 모델 학습에 필요한 텍스트 데이터 전처리가 한국어 포함하여 잘 이루어졌다. | \t구두점, 대소문자, 띄어쓰기, 한글 형태소분석 등 번역기 모델에 요구되는 전처리가 정상적으로 진행되었다. |\n",
    "| 2. Attentional Seq2seq 모델이 정상적으로 구동된다. | seq2seq 모델 훈련 과정에서 training loss가 안정적으로 떨어지면서 학습이 진행됨이 확인되었다. |\n",
    "| 3. 테스트 결과 의미가 통하는 수준의 번역문이 생성되었다. | 테스트용 디코더 모델이 정상적으로 만들어져서, 정답과 어느 정도 유사한 영어 번역이 진행됨을 확인하였다. |\n"
   ]
  },
  {
   "cell_type": "markdown",
   "id": "85cf2a75",
   "metadata": {},
   "source": [
    "## 루브릭 평가\n",
    "---\n",
    "1. 출력 결과 전처리가 정상적으로 이루어진 것을 확인할 수 있었다.\n",
    "2. training loss는 점차적으로 줄어드는 것을 볼 수 있었다.\n",
    "3. 이상하게 출력이 된다. \n"
   ]
  },
  {
   "cell_type": "markdown",
   "id": "b57ed14a",
   "metadata": {},
   "source": [
    "## 회고 \n",
    "- set에 데이터를 저장하기 전에 list나 tuple로 변환하여 데이터를 복사해야지 빈 상태가 되지 않는다는 것을 배웠다.\n",
    "- 과적합 때문인지는 잘 모르겠지만 학습이 제대로 되지 않았다. 애초에 데이터 셋 자체에 문제가 좀 있었는것 같다. transformer로 학습 시키는 것이 효과가 더 좋을것 같다.\n",
    "- 단원 자체가 어려워서 제대로 이해했는지 모르겠다. 끝나고 다시 한번 보면서 되 짚어보아야겠다."
   ]
  }
 ],
 "metadata": {
  "kernelspec": {
   "display_name": "Python 3 (ipykernel)",
   "language": "python",
   "name": "python3"
  },
  "language_info": {
   "codemirror_mode": {
    "name": "ipython",
    "version": 3
   },
   "file_extension": ".py",
   "mimetype": "text/x-python",
   "name": "python",
   "nbconvert_exporter": "python",
   "pygments_lexer": "ipython3",
   "version": "3.9.7"
  }
 },
 "nbformat": 4,
 "nbformat_minor": 5
}
